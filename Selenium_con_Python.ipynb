{
 "cells": [
  {
   "cell_type": "markdown",
   "metadata": {},
   "source": [
    "# Web Scraping con Python sobre Selenium para páginas dinámicas "
   ]
  },
  {
   "cell_type": "markdown",
   "metadata": {},
   "source": [
    "**Selenium** es un entorno de pruebas de software para aplicaciones basadas en la web. Selenium provee una herramienta de grabar/reproducir para crear pruebas sin usar un lenguaje de scripting para pruebas (Selenium IDE). Selenium permite escribir pruebas en un amplio número de lenguajes de programación populares como **Java**,**C#**,**Ruby**,**Groovy**,**Perl**,**PHP**, **Python** y **R**. Las pruebas pueden ejecutarse entonces usando la mayoría de los **navegadores web** modernos en diferentes sistemas operativos como **Windows**, **Linux** y **OSX**.   "
   ]
  },
  {
   "cell_type": "markdown",
   "metadata": {},
   "source": [
    "Para instalar selenium en Python existe una manual para ver [aquí](https://media.readthedocs.org/pdf/selenium-python/latest/selenium-python.pdf)"
   ]
  },
  {
   "cell_type": "markdown",
   "metadata": {},
   "source": [
    "## Manual de selenium con Python sobre Firefox "
   ]
  },
  {
   "cell_type": "markdown",
   "metadata": {},
   "source": [
    "Pasos para instalar el driver para **Firefox:**\n",
    "\n",
    "1. Paso 1: descargar e instalar **Python** del siguiente [link](https://www.python.org/). \n",
    "2. Paso 2: descargar e instalar **Firefox** en el siguiente [link](https://www.mozilla.org/es-ES/firefox/new/).\n",
    "3. Paso 3: descargar el driver de **Firefox** se puede descargar en el siguiente [link](https://github.com/mozilla/geckodriver/releases).\n",
    "4. Paso 4: configurar la variable de entorno con el directorio donde tenga el driver descargado del punto anterior."
   ]
  },
  {
   "cell_type": "markdown",
   "metadata": {},
   "source": [
    "Funciones:\n",
    "- La función $webdriver.Firefox()$, $webdriver.Chrome()$, sirven para generar la conexión con el navegador.\n",
    "- Llamemos $driver = webdriver.Firefox()$.\n",
    "- $driver.get()$: Para navegar a un enlace.\n",
    "- $driver.get\\_cookie()$: Trae solo la ventana vacía sin dirección.\n",
    "- $driver.get\\_cookies()$: Trae solo la ventana vacía sin dirección.\n",
    "- $driver.get\\_log()$: Trae solo la ventana vinculada con python\n",
    "- $driver.close()$: Para cerrar un enlace.\n",
    "- $driver.current\\_url$: Sirve para ver el directorio actual.\n",
    "- $driver.forward()$: Para retroceder en el historial del navegador.\n",
    "- $driver.back()$: Para avanzar en el historial del navegador.\n",
    "- $find\\_element\\_by\\_id$: Encuentra un elemente en HTML por el id.\n",
    "- $find\\_element\\_by\\_name$: Encuentra un elemento en HTML por el nombre.\n",
    "- $find\\_element\\_by\\_xpath$: Encuentra un elemento en HTML por el path.\n",
    "- $find\\_element\\_by\\_link\\_text$: Encuentra un link\n",
    "- $find\\_element\\_by\\_partial\\_link\\_text$: Encuentra un link\n",
    "- $find\\_element\\_by\\_tag\\_name$: Encuentra etiquetas.\n",
    "- $find\\_element\\_by\\_class\\_name$: Encuentras una clases en un HTML\n",
    "- $find\\_element\\_by\\_css\\_selector$: Encuentra un css selector en un HTML."
   ]
  },
  {
   "cell_type": "markdown",
   "metadata": {},
   "source": [
    "## Manual para Firefox"
   ]
  },
  {
   "cell_type": "code",
   "execution_count": 8,
   "metadata": {},
   "outputs": [],
   "source": [
    "# Importamos las librerías necesarias para realizar Web Scraping\n",
    "#-*- coding: utf-8 -*-\n",
    "# Se importa lo necesario para abrir el driver para Firefox\n",
    "from selenium import webdriver\n",
    "from selenium.webdriver.common.keys import Keys\n",
    "from selenium.webdriver.common.by import By\n",
    "import bs4\n",
    "import requests\n",
    "\n",
    "driver = webdriver.Firefox() # Se crea el enlace con el driver de Firefox"
   ]
  },
  {
   "cell_type": "code",
   "execution_count": 9,
   "metadata": {},
   "outputs": [],
   "source": [
    "# Se llama a una página con la URL\n",
    "driver.get(\"https://www.mismarcadores.com/partido/M368NbL8/#resumen-del-partido\")"
   ]
  },
  {
   "cell_type": "code",
   "execution_count": 10,
   "metadata": {},
   "outputs": [
    {
     "data": {
      "text/plain": [
       "'https://www.mismarcadores.com/partido/M368NbL8/#resumen-del-partido'"
      ]
     },
     "execution_count": 10,
     "metadata": {},
     "output_type": "execute_result"
    }
   ],
   "source": [
    "# Para ver el dirección actual de la url\n",
    "driver.current_url"
   ]
  },
  {
   "cell_type": "code",
   "execution_count": 11,
   "metadata": {},
   "outputs": [
    {
     "data": {
      "text/plain": [
       "<Response [200]>"
      ]
     },
     "execution_count": 11,
     "metadata": {},
     "output_type": "execute_result"
    }
   ],
   "source": [
    "# Realizamos la petición a la web\n",
    "req = requests.get(driver.current_url)\n",
    "req"
   ]
  },
  {
   "cell_type": "code",
   "execution_count": 12,
   "metadata": {},
   "outputs": [
    {
     "data": {
      "text/plain": [
       "<!DOCTYPE html PUBLIC \"-//W3C//DTD XHTML 1.0 Transitional//EN\" \"http://www.w3.org/TR/xhtml1/DTD/xhtml1-transitional.dtd\">\n",
       "\n",
       "<html lang=\"es\" xml:lang=\"es\" xmlns=\"http://www.w3.org/1999/xhtml\">\n",
       "<head>\n",
       "<meta content=\"text/html; charset=utf-8\" http-equiv=\"content-type\"/>\n",
       "<meta content=\"IE10;IE=11\" http-equiv=\"X-UA-Compatible\"/>\n",
       "<title>ANY 2-2 BUS | Anyang - Busan</title>\n",
       "<meta content=\"NOODP,index,follow\" name=\"robots\"/>\n",
       "<meta content=\"app-id=766477515\" name=\"apple-itunes-app\"/>\n",
       "<meta content=\"app-id=eu.livesport.MisMarcadores_com\" name=\"google-play-app\"/>\n",
       "<meta content=\"width=device-width, initial-scale=1, maximum-scale=1, user-scalable=no, minimal-ui\" name=\"viewport\"/>\n",
       "<meta content=\"Anyang - Busan 2:2\" property=\"og:title\"/>\n",
       "<meta content=\"http://www.mismarcadores.com/res/image/data/O2H46zAr-zubpoEGP-bNsC7kQS.png\" property=\"og:image\"/>\n",
       "<meta content=\"COREA DEL SUR: K League 2 - Jornada 15\" property=\"og:description\"/>\n",
       "<meta content=\"yes\" name=\"apple-mobile-web-app-capable\"/>\n",
       "<link href=\"/res/_fs/icon/favicon.ico\" rel=\"shortcut icon\"/>\n",
       "<link href=\"/res/image/mobile-icons/fs-green/180x180.png\" rel=\"apple-touch-icon\" sizes=\"180x180\"/>\n",
       "<link href=\"/res/image/mobile-icons/fs-green/152x152.png\" rel=\"apple-touch-icon\" sizes=\"152x152\"/>\n",
       "<link href=\"/res/image/mobile-icons/fs-green/120x120.png\" rel=\"apple-touch-icon\" sizes=\"120x120\"/>\n",
       "<link href=\"/res/image/mobile-icons/fs-green/72x72.png\" rel=\"apple-touch-icon\" sizes=\"72x72\"/>\n",
       "<link href=\"/res/image/mobile-icons/fs-green/57x57.png\" rel=\"apple-touch-icon\" sizes=\"57x57\"/>\n",
       "<link href=\"/res/image/mobile-icons/fs-green/touch-icon.png\" rel=\"apple-touch-icon\"/>\n",
       "<meta content=\"MisMarcadores.com\" name=\"apple-mobile-web-app-title\"/>\n",
       "<meta content=\"MisMarcadores.com\" name=\"application-name\"/>\n",
       "<meta content=\"/res/image/mobile-icons/fs-green/336x336.png\" name=\"msapplication-square150x150logo\"/>\n",
       "<script src=\"/x/js/jquery-1.11.0.min.js\" type=\"text/javascript\"></script>\n",
       "<script src=\"/x/js/framework30.js\" type=\"text/javascript\"></script>\n",
       "<script src=\"/x/js/lscompressor-min.js\" type=\"text/javascript\"></script>\n",
       "<script src=\"/x/js/core_13_1498000000.js\" type=\"text/javascript\"></script>\n",
       "<script src=\"/x/js/detail_13_1498000000.js\" type=\"text/javascript\"></script>\n",
       "<link href=\"/x/css/detail_13_1261000000.css\" media=\"all\" rel=\"stylesheet\" type=\"text/css\"/>\n",
       "<script src=\"/x/js/table_13_1498000000.js\" type=\"text/javascript\"></script>\n",
       "<script type=\"text/javascript\">\n",
       "\t\t\ttry { refresh_alert_check_on(); } catch(e) {}\n",
       "\t\t</script>\n",
       "<script type=\"text/javascript\">\n",
       "\t\t\t// <![CDATA[\n",
       "\t\t\tdocument.domain = 'mismarcadores.com';\n",
       "\t\t\tvar counter_duration_time = 60;\n",
       "\n",
       "\t\t\tvar participantEncodedIds = ['QRK4aI4P','phIARZ6a'];\n",
       "\t\t\tvar tournamentStageEncodedId = '8hznaTCp';\n",
       "\t\t\tvar tournamentEncodedId = 'GIZwQOfF';\n",
       "\t\t\tvar tournamentNameWithStage = 'K League 2';\n",
       "\t\t\tvar detailPage = null;\n",
       "\n",
       "\t\t\tvar g2utime = 1528275600;\n",
       "\t\t\tvar game_utime = 1528275600;\n",
       "\t\t\tvar game_utime_end = 0;\n",
       "\t\t\tvar event_stage_type_id = 3;\n",
       "\t\t\tvar race_or_main_stage_status_id = null;\n",
       "\t\t\tvar event_stage_id = 3;\n",
       "\t\t\tvar game_update_time = 1529593376;\t\t\tvar app_gmt_offset = -7200;\n",
       "\t\t\tvar default_tz = 2;\n",
       "\t\t\tvar tudate = 1529539200;\t\t\tvar mid_s = 1;\n",
       "\t\t\tvar sport_id = 1;\n",
       "\t\t\tvar page_hlscore_title = \"GOL\";\n",
       "\t\t\t//var odds_format_url = \"eu\";\n",
       "\t\t\tvar mpe_alias = 'p1:100, p2:100, p3:100, p4:100, p5:100, p6:100, p7:100, p8:100, p9:100, p10:100';\n",
       "\t\t\tvar mpe_delivery = 'a';\n",
       "\t\t\tvar mpr = 18;\n",
       "\t\t\tvar refresh_serial = 0;\n",
       "\t\t\tvar event_stage_trans = new Array();\n",
       "\t\t\tvar home_3char = \"ANY\";\n",
       "\t\t\tvar away_3char = \"BUS\";\n",
       "\t\t\tvar title_at_char = \"\";\n",
       "\t\t\tvar isSwapped = \"\";\n",
       "\t\t\tvar playingOnSets = \"\";\n",
       "\t\t\tvar hasLiveCentreEnabled = 0;\n",
       "\t\t\tvar isParticipantDetail = 0;\n",
       "\t\t\tvar eventParticipantEncodedId = \"ltB92yKu\";\n",
       "\t\t\tvar stageId = \"\";\n",
       "\t\t\tvar externalProjectId = 0;\n",
       "\t\t\tvar hasScratches = false;\n",
       "\t\t\tcjs.bookmakersData = {\"default\":[{\"main_bookmaker_id\":\"16\",\"project_id\":\"13\",\"geo_ip\":\"default\",\"name\":\"bet365\"},{\"main_bookmaker_id\":\"15\",\"project_id\":\"13\",\"geo_ip\":\"default\",\"name\":\"William Hill\"},{\"main_bookmaker_id\":\"392\",\"project_id\":\"13\",\"geo_ip\":\"default\",\"name\":\"bwin.es\"},{\"main_bookmaker_id\":\"406\",\"project_id\":\"13\",\"geo_ip\":\"default\",\"name\":\"Sportium\"}],\"CO\":[],\"VE\":[{\"main_bookmaker_id\":\"16\",\"project_id\":\"13\",\"geo_ip\":\"VE\",\"name\":\"bet365\"},{\"main_bookmaker_id\":\"392\",\"project_id\":\"13\",\"geo_ip\":\"VE\",\"name\":\"bwin.es\"}],\"PE\":[{\"main_bookmaker_id\":\"43\",\"project_id\":\"13\",\"geo_ip\":\"PE\",\"name\":\"Betsson\"},{\"main_bookmaker_id\":\"483\",\"project_id\":\"13\",\"geo_ip\":\"PE\",\"name\":\"Inkabet.pe\"},{\"main_bookmaker_id\":\"16\",\"project_id\":\"13\",\"geo_ip\":\"PE\",\"name\":\"bet365\"},{\"main_bookmaker_id\":\"392\",\"project_id\":\"13\",\"geo_ip\":\"PE\",\"name\":\"bwin.es\"}],\"UY\":[{\"main_bookmaker_id\":\"16\",\"project_id\":\"13\",\"geo_ip\":\"UY\",\"name\":\"bet365\"},{\"main_bookmaker_id\":\"15\",\"project_id\":\"13\",\"geo_ip\":\"UY\",\"name\":\"William Hill\"},{\"main_bookmaker_id\":\"392\",\"project_id\":\"13\",\"geo_ip\":\"UY\",\"name\":\"bwin.es\"},{\"main_bookmaker_id\":\"406\",\"project_id\":\"13\",\"geo_ip\":\"UY\",\"name\":\"Sportium\"}],\"MX\":[{\"main_bookmaker_id\":\"16\",\"project_id\":\"13\",\"geo_ip\":\"MX\",\"name\":\"bet365\"},{\"main_bookmaker_id\":\"5\",\"project_id\":\"13\",\"geo_ip\":\"MX\",\"name\":\"Unibet\"},{\"main_bookmaker_id\":\"15\",\"project_id\":\"13\",\"geo_ip\":\"MX\",\"name\":\"William Hill\"},{\"main_bookmaker_id\":\"392\",\"project_id\":\"13\",\"geo_ip\":\"MX\",\"name\":\"bwin.es\"}]};\n",
       "\t\t\tcjs.bookmakerLogos = {\"url\":\"\\/res\\/image\\/data\\/m-ddxzWOqT-htJ8pWJM.png?bookmaker\",\"offsets\":{\"5\":0,\"15\":21,\"16\":42,\"43\":63,\"392\":84,\"406\":105,\"429\":126,\"483\":147}};\n",
       "\t\t\tvar tz_list = [-8,-7,-6,-5,-4,-3,-2,-1,+0,+1,+2];\t\t\tvar sentences = [];\n",
       "\t\t\tvar sentences_parts = [];\n",
       "\t\t\tvar fs_detail = cjs.dic.getNewInstance('detail_fsdetail');\n",
       "fs_detail.DA = 3;fs_detail.DZ = 3;fs_detail.DB = 3;fs_detail.DD = 1528275600;fs_detail.AW = \"\";fs_detail.DC = 1528275600;fs_detail.DS = 0;fs_detail.DE = 2;fs_detail.DF = 2;fs_detail.DG = 2;fs_detail.DH = 2;fs_detail.DI = -1;fs_detail.DK = 1528282304;fs_detail.DL = 1;fs_detail.DM = \"\";fs_detail.DT = \"\";fs_detail.DX = \"LI,OD,HH,LT,TA\";fs_detail.DV = 1;fs_detail.SC = 16;fs_detail.SB = 1;fs_detail.SD = \"bet365\";fs_detail.setHash(\"CA\", \"\");fs_detail.GB = '{\"default\":true,\"CO\":false,\"VE\":true,\"PE\":true,\"UY\":true,\"MX\":true}';fs_detail.IY = 'ANY';fs_detail.IZ = 'BUS';event_stage_trans[1] = \"&nbsp;\"; event_stage_trans[45] = \"Por terminar\"; event_stage_trans[42] = \"En espera de actualizaciones\"; event_stage_trans[2] = \"En directo\"; event_stage_trans[12] = \"1er Tiempo\"; event_stage_trans[38] = \"Descanso\"; event_stage_trans[13] = \"2º Tiempo\"; event_stage_trans[6] = \"Prórroga\"; event_stage_trans[7] = \"Penaltis\"; event_stage_trans[46] = \"Descanso\"; event_stage_trans[3] = \"Finalizado\"; event_stage_trans[10] = \"Tras la prórroga\"; event_stage_trans[11] = \"Tras los penaltis\"; event_stage_trans[9] = \"Walkover\"; event_stage_trans[43] = \"Retrasado\"; event_stage_trans[36] = \"Interrumpido\"; event_stage_trans[4] = \"Aplazado\"; event_stage_trans[5] = \"Anulado\"; event_stage_trans[37] = \"Suspendido\"; event_stage_trans[54] = \"Por perdido\"; \n",
       "\t\t\t$(window).bind('load', detail_load);\n",
       "\t\t\t$(window).bind('load', function()\n",
       "\t\t\t{\n",
       "\t\t\t\ttry{\n",
       "\t\t\t\t\t\t\t\t\t\twindow.e_t = cjs.dic.get('utilEnviroment').getEventTrackingObject();\n",
       "\t\t\t\t\tbanners.setDisplayedCallback(function(){e_t.bindAdsCallbackClick()});\n",
       "\t\t\t\t\t\t\t\t\t\tdocument.lsadvert_display();\n",
       "\t\t\t\t\tdocument.show_social_button();\n",
       "\t\t\t\t}\n",
       "\t\t\t\tcatch(e)\n",
       "\t\t\t\t{\n",
       "\t\t\t\t}\n",
       "\t\t\t});\n",
       "\t\t\t$(window).bind('hashchange', detail_hashchange);\n",
       "\t\t\t$(document).ready(function()\n",
       "\t\t\t{\n",
       "\t\t\t\tcjs.dic.get('DicProxy').onReady(function()\n",
       "\t\t\t\t{\n",
       "\t\t\t\t\tdetail_init('soccer', 'M368NbL8', game_update_time);\n",
       "\t\t\t\t\tset_detail_bet_icon_states(\"tab-prematch-odds\");\n",
       "\t\t\t\t\tdetail_tab();\n",
       "\t\t\t\t\tdetail_delegate_actions(1, 'soccer', 'M368NbL8');\n",
       "\t\t\t\t});\n",
       "\n",
       "\t\t\t\t\t\t\t\t\tinitFeedRequest();\n",
       "\t\t\t\t\tmyTeamsInit(1);\n",
       "\t\t\t\t\tif (typeof cjs.myTeams != 'undefined')\n",
       "\t\t\t\t\t{\n",
       "\t\t\t\t\t\tcjs.myTeams.printToggleIcons();\n",
       "\t\t\t\t\t\tcjs.myTeams.delegateTooltips();\n",
       "\t\t\t\t\t}\n",
       "\t\t\t\t\n",
       "\t\t\t\t\t\t\t\t\tvar fsDetailObj = cjs.dic.getNewInstance('detail_fsdetail');\n",
       "\t\t\t\t\tfsDetailObj.setOverrideData(fs_detail);\n",
       "\t\t\t\t\tfsDetailObj.repaintScore();\n",
       "\t\t\t\t\tfsDetailObj.repaintEventStage();\n",
       "\t\t\t\t\n",
       "\t\t\t\tcjs.dic.get('Util_DeviceTab').setDeviceTypeToElement($(\"body\"));\n",
       "\t\t\t\twindow.onresize = function() {\n",
       "\t\t\t\t\tcjs.dic.get('Util_DeviceTab').setDeviceTypeToElement($(\"body\"));\n",
       "\t\t\t\t};\n",
       "\n",
       "\t\t\t});\n",
       "\n",
       "\t\t\t\t\t// ]]>\n",
       "\t\t</script>\n",
       "<script type=\"text/javascript\">\n",
       "// <![CDATA[\n",
       "var stats2Config = {\"tournament\":\"GIZwQOfF\",\"tournamentStage\":\"8hznaTCp\",\"statsTabsConfig\":{\"16\":{\"name\":\"Tabla En Directo\",\"url\":\"live\",\"sortKey\":1},\"1\":{\"name\":\"Clasificaci\\u00f3n\",\"url\":\"table\",\"sortKey\":2,\"items\":{\"1\":{\"name\":\"General\",\"url\":\"overall\",\"sortKey\":1},\"2\":{\"name\":\"Local\",\"url\":\"home\",\"sortKey\":2},\"3\":{\"name\":\"Visitante\",\"url\":\"away\",\"sortKey\":3}}},\"5\":{\"name\":\"Forma\",\"url\":\"form\",\"sortKey\":3,\"items\":{\"5\":{\"name\":\"General\",\"url\":\"overall\",\"has_sub_items\":true,\"sortKey\":1},\"8\":{\"name\":\"Local\",\"url\":\"home\",\"has_sub_items\":true,\"sortKey\":2},\"9\":{\"name\":\"Visitante\",\"url\":\"away\",\"has_sub_items\":true,\"sortKey\":3}}},\"6\":{\"name\":\"M\\u00e1s de\\/Menos de\",\"url\":\"over_under\",\"sortKey\":4,\"items\":{\"6\":{\"name\":\"General\",\"url\":\"overall\",\"has_sub_items\":true,\"sortKey\":1},\"17\":{\"name\":\"Local\",\"url\":\"home\",\"has_sub_items\":true,\"sortKey\":2},\"18\":{\"name\":\"Visitante\",\"url\":\"away\",\"has_sub_items\":true,\"sortKey\":3}}},\"7\":{\"name\":\"Rachas\",\"url\":\"streaks\",\"sortKey\":5},\"-1\":{\"name\":\"Cuadro\",\"url\":\"draw\",\"sortKey\":6},\"13\":{\"url\":\"ht_ft\",\"name\":\"HT\\/FT\",\"title\":\"Descanso\\/Final\",\"sortKey\":7,\"items\":{\"13\":{\"name\":\"General\",\"url\":\"overall\",\"sortKey\":1},\"14\":{\"name\":\"Local\",\"url\":\"home\",\"sortKey\":2},\"15\":{\"name\":\"Visitante\",\"url\":\"away\",\"sortKey\":3}}},\"10\":{\"name\":\"Goleadores\",\"url\":\"top_scorers\",\"sortKey\":8}},\"statsOverUnderTypes\":{\"8\":{\"sort\":0,\"name\":0.5,\"default_tab_order\":1},\"1\":{\"sort\":1,\"name\":1.5,\"default_tab_order\":0},\"2\":{\"sort\":2,\"name\":2.5,\"default_tab_order\":2},\"3\":{\"sort\":3,\"name\":3.5,\"default_tab_order\":0},\"4\":{\"sort\":4,\"name\":4.5,\"default_tab_order\":0},\"5\":{\"sort\":5,\"name\":5.5,\"default_tab_order\":0},\"6\":{\"sort\":6,\"name\":6.5,\"default_tab_order\":0},\"7\":{\"sort\":7,\"name\":7.5,\"default_tab_order\":0}}};\n",
       "\n",
       "// ]]>\n",
       "</script>\n",
       "</head>\n",
       "<body class=\"soccer detail-experimental detailbody\" id=\"top\">\n",
       "<div class=\"sport-soccer\" id=\"detail\"><div id=\"detcon\">\n",
       "<div class=\"detail-header-wrapper\">\n",
       "<div class=\"logo-detail-wrapper\">\n",
       "<a href=\"/\" target=\"_blank\">\n",
       "<div class=\"project-logo-detail mismarcadores-com-white\"></div>\n",
       "</a>\n",
       "</div>\n",
       "<table class=\"detail\">\n",
       "<thead>\n",
       "<tr>\n",
       "<th class=\"header\">\n",
       "<div class=\"fleft\">\n",
       "<span class=\"flag fl_106\"></span>\n",
       "<span>COREA DEL SUR: <a href=\"#\" onclick=\"window.open('/futbol/corea-del-sur/k-league-2/'); return false;\">K League 2 - Jornada 15</a></span>\n",
       "</div>\n",
       "</th>\n",
       "</tr>\n",
       "</thead>\n",
       "<tbody>\n",
       "<tr>\n",
       "<td class=\"hclean\"></td>\n",
       "</tr>\n",
       "</tbody>\n",
       "</table>\n",
       "</div><div id=\"preload-all\"><div class=\"preload\"><span>Loading ...</span></div></div><div class=\"v-hidden\" id=\"content-all\"><div id=\"fscon-service-status\"></div>\n",
       "<div class=\"team\" id=\"flashscore\">\n",
       "<div class=\"team-primary-content\">\n",
       "<div class=\"home-box logo-enable\">\n",
       "<div class=\"side-images-wrapper tlogo-home\">\n",
       "<div class=\"side-images-row\">\n",
       "<a class=\"participant-imglink\" href=\"#\" onclick=\"window.open('/equipo/anyang/QRK4aI4P'); return false;\"><img alt=\"Anyang\" height=\"50\" src=\"/res/image/data/O2H46zAr-MRBFfCc2.png\" title=\"Mostrar perfil\" width=\"50\"/></a><div class=\"tomyteams\" id=\"tomyteams_1_QRK4aI4P\"></div>\n",
       "</div>\n",
       "</div>\n",
       "<div class=\"team-text tname-home\">\n",
       "<div class=\"tname\">\n",
       "<div class=\"tname__text\">\n",
       "<span class=\"dw-icon ico\" style=\"display: none\"> </span>\n",
       "<a class=\"participant-imglink\" href=\"#\" onclick=\"window.open('/equipo/anyang/QRK4aI4P'); return false;\">Anyang</a>\n",
       "</div>\n",
       "</div>\n",
       "</div>\n",
       "</div>\n",
       "<div class=\"match-info\">\n",
       "<div class=\"current-result\" id=\"event_detail_current_result\">\n",
       "<span class=\"scoreboard\">2</span><span><span class=\"scoreboard-divider\">-</span><span class=\"scoreboard\">2</span></span>\n",
       "</div>\n",
       "<div class=\"info-time mstat-date\" id=\"utime\">\n",
       "</div>\n",
       "<div class=\"info-status mstat\">\n",
       "\t\t\t\t\t\t\tFinalizado\n",
       "\t\t\t\t\t\t</div>\n",
       "</div>\n",
       "<div class=\"away-box logo-enable\">\n",
       "<div class=\"side-images-wrapper tlogo-away\">\n",
       "<div class=\"side-images-row\">\n",
       "<div class=\"tomyteams\" id=\"tomyteams_1_phIARZ6a\"></div><a class=\"participant-imglink\" href=\"#\" onclick=\"window.open('/equipo/busan/phIARZ6a'); return false;\"><img alt=\"Busan\" height=\"50\" src=\"/res/image/data/lOi7wNEG-bNsC7kQS.png\" title=\"Mostrar perfil\" width=\"50\"/></a>\n",
       "</div>\n",
       "</div>\n",
       "<div class=\"team-text tname-away\">\n",
       "<div class=\"tname\">\n",
       "<div class=\"tname__text\">\n",
       "<a class=\"participant-imglink\" href=\"#\" onclick=\"window.open('/equipo/busan/phIARZ6a'); return false;\">Busan</a>\n",
       "<span class=\"dw-icon ico\" style=\"display: none\"> </span>\n",
       "</div>\n",
       "</div>\n",
       "</div>\n",
       "</div>\n",
       "</div>\n",
       "<div class=\"team-secondary-content\">\n",
       "</div>\n",
       "</div><div id=\"detail-bookmarks\"></div><div id=\"tab-match-summary\" style=\"display: none;\"><div class=\"preload-panel\" id=\"summary-preload\"><div class=\"preload\"><span>Loading ...</span></div></div><div id=\"summary-content\"><div id=\"missing-players-content\"></div></div><div class=\"spacer-block\"> </div></div> <div id=\"tab-match-odds-comparison\" style=\"display: none;\">\n",
       "<div class=\"preload-panel\" id=\"odds-comparison-preload\"><div class=\"preload\"><span>Loading ...</span></div></div>\n",
       "<div id=\"odds-comparison-content\"></div>\n",
       "</div> <div id=\"tab-match-tv\" style=\"display: none;\">\n",
       "<div class=\"preload-panel\" id=\"tv-preload\"><div class=\"preload\"><span>Loading ...</span></div></div>\n",
       "<div id=\"tv-content\"></div>\n",
       "</div> <div id=\"tab-match-highlights\" style=\"display: none;\">\n",
       "<div class=\"preload-panel\" id=\"highlights-preload\"><div class=\"preload\"><span>Loading ...</span></div></div>\n",
       "<div id=\"highlights-content\"></div>\n",
       "</div> <div id=\"tab-match-photoreport\" style=\"display: none;\">\n",
       "<div class=\"preload-panel\" id=\"photoreport-preload\"><div class=\"preload\"><span>Loading ...</span></div></div>\n",
       "<div id=\"photoreport-content\"></div>\n",
       "</div> <div id=\"tab-match-head-2-head\" style=\"display: none;\">\n",
       "<div class=\"preload-panel\" id=\"head-2-head-preload\"><div class=\"preload\"><span>Loading ...</span></div></div>\n",
       "<div id=\"head-2-head-content\"></div>\n",
       "</div> <div id=\"tab-match-lineups\" style=\"display: none;\">\n",
       "<div class=\"preload-panel\" id=\"lineups-preload\"><div class=\"preload\"><span>Loading ...</span></div></div>\n",
       "<div id=\"lineups-content\"></div>\n",
       "</div> <div id=\"tab-match-statistics\" style=\"display: none;\">\n",
       "<div class=\"preload-panel\" id=\"statistics-preload\"><div class=\"preload\"><span>Loading ...</span></div></div>\n",
       "<div id=\"statistics-content\"></div>\n",
       "</div> <div id=\"tab-match-player-statistics\" style=\"display: none;\">\n",
       "<div class=\"preload-panel\" id=\"player-statistics-preload\"><div class=\"preload\"><span>Loading ...</span></div></div>\n",
       "<div id=\"player-statistics-content\"></div>\n",
       "</div> <div id=\"tab-match-fall-of-wickets\" style=\"display: none;\">\n",
       "<div class=\"preload-panel\" id=\"fall-of-wickets-preload\"><div class=\"preload\"><span>Loading ...</span></div></div>\n",
       "<div id=\"fall-of-wickets-content\"></div>\n",
       "</div> <div id=\"tab-match-overs\" style=\"display: none;\">\n",
       "<div class=\"preload-panel\" id=\"overs-preload\"><div class=\"preload\"><span>Loading ...</span></div></div>\n",
       "<div id=\"overs-content\"></div>\n",
       "</div> <div id=\"tab-match-history\" style=\"display: none;\">\n",
       "<div class=\"preload-panel\" id=\"match-history-preload\"><div class=\"preload\"><span>Loading ...</span></div></div>\n",
       "<div id=\"match-history-content\"></div>\n",
       "</div> <div id=\"tab-match-commentary\" style=\"display: none;\">\n",
       "<div class=\"preload-panel\" id=\"commentary-preload\"><div class=\"preload\"><span>Loading ...</span></div></div>\n",
       "<div id=\"commentary-content\"></div>\n",
       "</div> <div id=\"tab-match-commentary-new\" style=\"display: none;\">\n",
       "<div class=\"preload-panel\" id=\"commentary-new-preload\"><div class=\"preload\"><span>Loading ...</span></div></div>\n",
       "<div id=\"commentary-new-content\"></div>\n",
       "</div> <div id=\"tab-match-live-table\" style=\"display: none;\">\n",
       "<div class=\"preload-panel\" id=\"live-table-preload\"><div class=\"preload\"><span>Loading ...</span></div></div>\n",
       "<div id=\"live-table-content\"></div>\n",
       "</div> <div id=\"tab-match-standings\" style=\"display: none;\">\n",
       "<div class=\"preload-panel\" id=\"standings-preload\"><div class=\"preload\"><span>Loading ...</span></div></div>\n",
       "<div id=\"standings-content\"></div>\n",
       "<div class=\"spacer-block\"> </div>\n",
       "</div> <div id=\"tab-match-draw\" style=\"display: none;\">\n",
       "<div class=\"preload-panel\" id=\"draw-preload\"><div class=\"preload\"><span>Loading ...</span></div></div>\n",
       "<div id=\"draw-content\"></div>\n",
       "</div> <div id=\"tab-match-newsfeed\" style=\"display: none;\">\n",
       "<div class=\"preload-panel\" id=\"newsfeed-preload\"><div class=\"preload\"><span>Loading ...</span></div></div>\n",
       "<div id=\"newsfeed-content\"></div>\n",
       "</div><hr class=\"cleaner\"/><div class=\"live-betting-strip\"></div> <script type=\"text/javascript\">\n",
       "\t\t\t\tcjs.dic.get('Feed_Content_OddsSetup').setStripData([]);\n",
       "\t\t\t</script>\n",
       "<div id=\"tab-prematch-odds\">\n",
       "<div id=\"prematch-odds-content\">\n",
       "</div>\n",
       "</div> <script type=\"text/javascript\">\n",
       "\t\t\t\tcjs.dic.get('Feed_Content_OddsSetup').setPrematchData({\"tableType\":\"odds\",\"tabTitle\":\"Cuotas prepartido\",\"defaultColumnWidth\":60,\"isBettingType_TWP\":false,\"isBettingType_1X2\":true,\"isBettingType_ASIAN_HANDICAP\":false,\"isNotBettingType_HOME_AWAY_DRAW_NO_BET\":true,\"bookmakerTitle\":\"&nbsp;\",\"tableHeader\":[{\"name\":\"1\"},{\"name\":\"X\"},{\"name\":\"2\"}],\"handicap\":{\"type\":\"\",\"value\":0},\"hasOddsComparison\":true,\"useBookmarkInOne\":false,\"moreBookmakersText\":\"Mostrar m\\u00e1s casas de apuestas\",\"emptyCellChar\":\"-\",\"geoOddsComparisonSettings\":{\"default\":true,\"CO\":false,\"VE\":true,\"PE\":true,\"UY\":true,\"MX\":true}});\n",
       "\t\t\t</script>\n",
       "<div class=\"detail-bonus-match-summary-content\" id=\"detail-bonus-match-summary-content\"></div><div id=\"tab-flash-facts\">\n",
       "<div id=\"flash-facts-content\">\n",
       "</div>\n",
       "</div>\n",
       "<div id=\"detail-bonus-odds-comparison-content\"></div>\n",
       "<script type=\"text/javascript\">\n",
       "\t// <![CDATA[\n",
       "\tvar page_is_initialized = false;\n",
       "\tcjs.dic.get('Helper_CurrentTime').setServerTimestamp(1529593452);\n",
       "\t// ]]>\n",
       "</script>\n",
       "</div>\n",
       "<div class=\"adsenvelope adstextpad banx-detail\" id=\"lsadvert-zid-88\" style=\"width:300px;\"><div style=\"height:250px\"><div class=\"adscontent\" id=\"lsadvert-detail\"><iframe frameborder=\"0\" id=\"lsadvert-zid-88-iframe\" name=\"banx-detail\" scrolling=\"no\" style=\"allowTransparency: true; visibility: hidden; width:300px; height:250px\"></iframe></div><div class=\"adsgraphhori\"><div class=\"adsghori ath-es\"></div></div></div></div><div class=\"ban_envelope \" id=\"crt-522776\" style=\"width:300px; height:250px; display: none;\"></div><script type=\"text/javascript\">if (jQuery(\"#crt-522776\").is(\":hidden\")) { jQuery(\"#crt-522776\").show(); }if (typeof banners_backup_callbacks == \"undefined\") { var banners_backup_callbacks = []; }banners_backup_callbacks.push(function() {jQuery(\"#crt-522776\").show();Criteo.DisplayAcceptableAdIfAdblocked({\"zoneid\": 522776, \"containerid\": \"crt-522776\"}); });</script><div id=\"detail-gamble-responsibly\"><a href=\"http://www.jugadoresanonimos.org/\" target=\"_blank\">Jugadores Anonimos</a>. 18+</div>\n",
       "<div id=\"winclose\"><div id=\"sync-indicator\" ondblclick=\"sync_change()\"></div><a href=\"#\" onclick=\"window.close();\">Cerrar ventana</a></div>\n",
       "</div>\n",
       "<sport name=\"soccer\"></sport>\n",
       "<script>\n",
       "var dataLayer = dataLayer || []; // Google Tag Manager\n",
       "</script>\n",
       "<!-- Google Tag Manager -->\n",
       "<noscript><iframe height=\"0\" src=\"//www.googletagmanager.com/ns.html?id=GTM-PWJ3NQ\" style=\"display:none;visibility:hidden\" width=\"0\"></iframe></noscript>\n",
       "<script>(function(w,d,s,l,i){w[l]=w[l]||[];w[l].push({'gtm.start': new Date().getTime(),event:'gtm.js'});var f=d.getElementsByTagName(s)[0],j=d.createElement(s),dl=l!='dataLayer'?'&l='+l:'';j.async=true;j.src='//www.googletagmanager.com/gtm.js?id='+i+dl;f.parentNode.insertBefore(j,f);})(window,document,'script','dataLayer','GTM-PWJ3NQ');</script>\n",
       "<!-- End Google Tag Manager -->\n",
       "</div>\n",
       "<script type=\"text/javascript\">\n",
       "\t\t\t\t// <![CDATA[\n",
       "\t\t\t\tvar banners; \n",
       "\t\t\t\tbanners = new BannerHandler([88], [], window.bannersAdsServers || [\"content.livesportmedia.eu\"], [], jQuery, \"La imagen de fondo pertenece a un anuncio.\", clientStorage, null, true);\n",
       "\n",
       "\t\t\t\t \n",
       "\t\t\t\t\t\t\n",
       "\t\t\tbanners.addSetBackgroundCallback(function(){\n",
       "\t\t\t\tjQuery(\"body\").addClass('background-add-on');\n",
       "\n",
       "\t\t\t\t// Hide social buttons (Warning: don't remove buttongs from DOM - it is dangerous operations and breaks Firefox)\n",
       "\t\t\t\tjQuery('#social-button').css('display', 'none');\n",
       "\t\t\t});\n",
       "\t\t\n",
       "\n",
       "\t\t\n",
       "\t\t\t\tdocument.lsadvert_display = function() {\n",
       "\t\t\t\t\tbanners.display();\n",
       "\t\t\t\t}\n",
       "\t\t\t\t\t\t\t\t// ]]>\n",
       "\t\t\t\t</script>\n",
       "</body></html>"
      ]
     },
     "execution_count": 12,
     "metadata": {},
     "output_type": "execute_result"
    }
   ],
   "source": [
    "# Vemos el árbol del HTML\n",
    "bs4.BeautifulSoup(req.text, \"html.parser\")"
   ]
  },
  {
   "cell_type": "code",
   "execution_count": 7,
   "metadata": {},
   "outputs": [
    {
     "data": {
      "text/plain": [
       "'4294967297'"
      ]
     },
     "execution_count": 7,
     "metadata": {},
     "output_type": "execute_result"
    }
   ],
   "source": [
    "# Devuelve el identificador de la ventana dentro de la sesión actual\n",
    "driver.current_window_handle"
   ]
  },
  {
   "cell_type": "code",
   "execution_count": 28,
   "metadata": {},
   "outputs": [
    {
     "data": {
      "text/plain": [
       "<selenium.webdriver.firefox.webelement.FirefoxWebElement (session=\"e7d4efbc-dace-4b2e-b4b0-038680545653\", element=\"86db8483-ef3c-4cd0-9baf-0915058f0bbd\")>"
      ]
     },
     "execution_count": 28,
     "metadata": {},
     "output_type": "execute_result"
    }
   ],
   "source": [
    "# Buscamos un elemento por el id: id = \"utime\"\n",
    "# Método 'privado' utilizado por los métodos find_element_by_ *.\n",
    "driver.find_element(by = \"id\", value=\"utime\")"
   ]
  },
  {
   "cell_type": "code",
   "execution_count": 26,
   "metadata": {},
   "outputs": [
    {
     "data": {
      "text/plain": [
       "<selenium.webdriver.firefox.webelement.FirefoxWebElement (session=\"e7d4efbc-dace-4b2e-b4b0-038680545653\", element=\"9b155e5a-6c37-4ba0-ab79-acb82a16d035\")>"
      ]
     },
     "execution_count": 26,
     "metadata": {},
     "output_type": "execute_result"
    }
   ],
   "source": [
    "# Buscamos un elemento por el nombre de la clase: class = \"tname__text\"\n",
    "# Encuentra un elemento dentro de los elementos de este elemento por nombre de clase.\n",
    "driver.find_element_by_class_name(\"tname__text\")"
   ]
  },
  {
   "cell_type": "code",
   "execution_count": 30,
   "metadata": {},
   "outputs": [
    {
     "data": {
      "text/plain": [
       "<selenium.webdriver.firefox.webelement.FirefoxWebElement (session=\"e7d4efbc-dace-4b2e-b4b0-038680545653\", element=\"86db8483-ef3c-4cd0-9baf-0915058f0bbd\")>"
      ]
     },
     "execution_count": 30,
     "metadata": {},
     "output_type": "execute_result"
    }
   ],
   "source": [
    "# Buscamos un elemente por el id con css: id = \"utime\" entonces se pone \"#utime\"\n",
    "driver.find_element_by_css_selector(\"#utime\")"
   ]
  },
  {
   "cell_type": "code",
   "execution_count": 33,
   "metadata": {},
   "outputs": [
    {
     "data": {
      "text/plain": [
       "<selenium.webdriver.firefox.webelement.FirefoxWebElement (session=\"e7d4efbc-dace-4b2e-b4b0-038680545653\", element=\"9b155e5a-6c37-4ba0-ab79-acb82a16d035\")>"
      ]
     },
     "execution_count": 33,
     "metadata": {},
     "output_type": "execute_result"
    }
   ],
   "source": [
    "# Buscamos un elemente por el id con css: id = \"utime\" entonces se pone \"#utime\"\n",
    "# Encuentra el elemento dentro de los elementos de este elemento mediante el selector de CSS.\n",
    "driver.find_element_by_css_selector(\".tname__text\")"
   ]
  },
  {
   "cell_type": "code",
   "execution_count": 15,
   "metadata": {},
   "outputs": [
    {
     "data": {
      "text/plain": [
       "<selenium.webdriver.firefox.webelement.FirefoxWebElement (session=\"e7d4efbc-dace-4b2e-b4b0-038680545653\", element=\"86db8483-ef3c-4cd0-9baf-0915058f0bbd\")>"
      ]
     },
     "execution_count": 15,
     "metadata": {},
     "output_type": "execute_result"
    }
   ],
   "source": [
    "# Buscamos por id = \"utime\"\n",
    "# Encuentra elementos dentro de los elementos de este elemento por ID.\n",
    "driver.find_element_by_id(\"utime\")"
   ]
  },
  {
   "cell_type": "code",
   "execution_count": 37,
   "metadata": {},
   "outputs": [
    {
     "data": {
      "text/plain": [
       "<selenium.webdriver.firefox.webelement.FirefoxWebElement (session=\"e7d4efbc-dace-4b2e-b4b0-038680545653\", element=\"68bd1907-cb08-4c0a-8669-cb7fb0a21974\")>"
      ]
     },
     "execution_count": 37,
     "metadata": {},
     "output_type": "execute_result"
    }
   ],
   "source": [
    "# Encuentra elementos dentro de los elementos de este elemento mediante texto de enlace visible.\n",
    "driver.find_element_by_link_text(\"Resumen\")"
   ]
  },
  {
   "cell_type": "code",
   "execution_count": 38,
   "metadata": {},
   "outputs": [
    {
     "data": {
      "text/plain": [
       "<selenium.webdriver.firefox.webelement.FirefoxWebElement (session=\"e7d4efbc-dace-4b2e-b4b0-038680545653\", element=\"d60c98cd-54a5-4122-bb52-e5d6b09ddacc\")>"
      ]
     },
     "execution_count": 38,
     "metadata": {},
     "output_type": "execute_result"
    }
   ],
   "source": [
    "# Encuentra elementos dentro de los elementos de este elemento mediante texto de enlace visible.\n",
    "driver.find_element_by_link_text(\"Alineaciones\")"
   ]
  },
  {
   "cell_type": "code",
   "execution_count": 55,
   "metadata": {},
   "outputs": [
    {
     "data": {
      "text/plain": [
       "<selenium.webdriver.firefox.webelement.FirefoxWebElement (session=\"e7d4efbc-dace-4b2e-b4b0-038680545653\", element=\"d7c6c42b-c3f1-49e3-9b86-d784fcd5bed9\")>"
      ]
     },
     "execution_count": 55,
     "metadata": {},
     "output_type": "execute_result"
    }
   ],
   "source": [
    "# Busca un elemento dentro de los elementos de este elemento por nombre.\n",
    "driver.find_element_by_name(\"viewport\")"
   ]
  },
  {
   "cell_type": "code",
   "execution_count": 43,
   "metadata": {},
   "outputs": [
    {
     "data": {
      "text/plain": [
       "<selenium.webdriver.firefox.webelement.FirefoxWebElement (session=\"e7d4efbc-dace-4b2e-b4b0-038680545653\", element=\"68bd1907-cb08-4c0a-8669-cb7fb0a21974\")>"
      ]
     },
     "execution_count": 43,
     "metadata": {},
     "output_type": "execute_result"
    }
   ],
   "source": [
    "# Encuentra elementos dentro de los elementos de este elemento mediante texto de enlace parcialmente visible\n",
    "driver.find_element_by_partial_link_text(\"Resum\")"
   ]
  },
  {
   "cell_type": "code",
   "execution_count": 48,
   "metadata": {},
   "outputs": [
    {
     "data": {
      "text/plain": [
       "<selenium.webdriver.firefox.webelement.FirefoxWebElement (session=\"e7d4efbc-dace-4b2e-b4b0-038680545653\", element=\"a90abd50-25c9-4633-a6d9-be9f9ea0e2c2\")>"
      ]
     },
     "execution_count": 48,
     "metadata": {},
     "output_type": "execute_result"
    }
   ],
   "source": [
    "# Busca elementos dentro de los elementos de este elemento por nombre de etiqueta.\n",
    "driver.find_element_by_tag_name(\"title\")"
   ]
  },
  {
   "cell_type": "code",
   "execution_count": 56,
   "metadata": {},
   "outputs": [
    {
     "data": {
      "text/plain": [
       "<selenium.webdriver.firefox.webelement.FirefoxWebElement (session=\"e7d4efbc-dace-4b2e-b4b0-038680545653\", element=\"38831e05-e9ca-4b5e-9ccf-357971e30eaa\")>"
      ]
     },
     "execution_count": 56,
     "metadata": {},
     "output_type": "execute_result"
    }
   ],
   "source": [
    "# Busca elementos dentro de los elementos de este elemento por nombre de etiqueta.\n",
    "driver.find_element_by_name(\"google-play-app\")"
   ]
  },
  {
   "cell_type": "code",
   "execution_count": 49,
   "metadata": {},
   "outputs": [
    {
     "data": {
      "text/plain": [
       "<selenium.webdriver.firefox.webelement.FirefoxWebElement (session=\"e7d4efbc-dace-4b2e-b4b0-038680545653\", element=\"f1d38165-9ab3-4f98-8337-975ae0b65500\")>"
      ]
     },
     "execution_count": 49,
     "metadata": {},
     "output_type": "execute_result"
    }
   ],
   "source": [
    "# Encuentra elementos por xpath.\n",
    "driver.find_element_by_xpath(\"/html/body//div\")"
   ]
  },
  {
   "cell_type": "code",
   "execution_count": 59,
   "metadata": {},
   "outputs": [
    {
     "data": {
      "text/plain": [
       "'ANY 2-2 BUS | Anyang - Busan | Resumen'"
      ]
     },
     "execution_count": 59,
     "metadata": {},
     "output_type": "execute_result"
    }
   ],
   "source": [
    "# Encuentra el título\n",
    "driver.title"
   ]
  },
  {
   "cell_type": "code",
   "execution_count": null,
   "metadata": {},
   "outputs": [],
   "source": [
    "# Para cerrar la conexión\n",
    "driver.close()"
   ]
  },
  {
   "cell_type": "code",
   "execution_count": 62,
   "metadata": {},
   "outputs": [
    {
     "data": {
      "text/plain": [
       "'Kim Young-Do'"
      ]
     },
     "execution_count": 62,
     "metadata": {},
     "output_type": "execute_result"
    }
   ],
   "source": [
    "# Para buscar un elemento por el nombre de la clase\n",
    "(driver.find_element_by_class_name(\"substitution-in-name\")).text"
   ]
  },
  {
   "cell_type": "code",
   "execution_count": 63,
   "metadata": {},
   "outputs": [
    {
     "data": {
      "text/plain": [
       "[<selenium.webdriver.firefox.webelement.FirefoxWebElement (session=\"e7d4efbc-dace-4b2e-b4b0-038680545653\", element=\"f1d38165-9ab3-4f98-8337-975ae0b65500\")>,\n",
       " <selenium.webdriver.firefox.webelement.FirefoxWebElement (session=\"e7d4efbc-dace-4b2e-b4b0-038680545653\", element=\"31cf1077-99c5-46bb-a9ef-873b5542ede8\")>,\n",
       " <selenium.webdriver.firefox.webelement.FirefoxWebElement (session=\"e7d4efbc-dace-4b2e-b4b0-038680545653\", element=\"7ab0d4ca-9b54-4bcd-b14f-9060169e4386\")>,\n",
       " <selenium.webdriver.firefox.webelement.FirefoxWebElement (session=\"e7d4efbc-dace-4b2e-b4b0-038680545653\", element=\"9d757960-04f5-4406-8eb4-bf9c10db6762\")>]"
      ]
     },
     "execution_count": 63,
     "metadata": {},
     "output_type": "execute_result"
    }
   ],
   "source": [
    "# Por medio de XPATH se busca los nodos div\n",
    "driver.find_elements(By.XPATH, \"/html/body/div\")"
   ]
  },
  {
   "cell_type": "markdown",
   "metadata": {},
   "source": [
    "## Manual para Chrome"
   ]
  },
  {
   "cell_type": "code",
   "execution_count": 64,
   "metadata": {},
   "outputs": [],
   "source": [
    "# Crear una conexión con Chrome\n",
    "driver_chrome = webdriver.Chrome()"
   ]
  },
  {
   "cell_type": "code",
   "execution_count": 65,
   "metadata": {},
   "outputs": [],
   "source": [
    "# Para obtener la URL\n",
    "driver_chrome.get(\"https://www.python.org/\")"
   ]
  },
  {
   "cell_type": "code",
   "execution_count": null,
   "metadata": {},
   "outputs": [],
   "source": [
    "# Lectura de la URL\n",
    "url = \"https://www.mismarcadores.com/partido/M368NbL8/#resumen-del-partido\"\n",
    "driver = webdriver.Chrome()\n",
    "driver.get(url)"
   ]
  },
  {
   "cell_type": "code",
   "execution_count": 66,
   "metadata": {},
   "outputs": [
    {
     "data": {
      "text/plain": [
       "<Response [200]>"
      ]
     },
     "execution_count": 66,
     "metadata": {},
     "output_type": "execute_result"
    }
   ],
   "source": [
    "# Realizamos la petición a la web\n",
    "req_chrome = requests.get(driver_chrome.current_url)\n",
    "req_chrome"
   ]
  },
  {
   "cell_type": "code",
   "execution_count": 67,
   "metadata": {},
   "outputs": [
    {
     "data": {
      "text/plain": [
       "<!DOCTYPE doctype html>\n",
       "\n",
       "<!--[if lt IE 7]>   <html class=\"no-js ie6 lt-ie7 lt-ie8 lt-ie9\">   <![endif]-->\n",
       "<!--[if IE 7]>      <html class=\"no-js ie7 lt-ie8 lt-ie9\">          <![endif]-->\n",
       "<!--[if IE 8]>      <html class=\"no-js ie8 lt-ie9\">                 <![endif]-->\n",
       "<!--[if gt IE 8]><!--><html class=\"no-js\" dir=\"ltr\" lang=\"en\"> <!--<![endif]-->\n",
       "<head>\n",
       "<meta charset=\"utf-8\"/>\n",
       "<meta content=\"IE=edge\" http-equiv=\"X-UA-Compatible\"/>\n",
       "<link href=\"//ajax.googleapis.com/ajax/libs/jquery/1.8.2/jquery.min.js\" rel=\"prefetch\"/>\n",
       "<meta content=\"Python.org\" name=\"application-name\"/>\n",
       "<meta content=\"The official home of the Python Programming Language\" name=\"msapplication-tooltip\"/>\n",
       "<meta content=\"Python.org\" name=\"apple-mobile-web-app-title\"/>\n",
       "<meta content=\"yes\" name=\"apple-mobile-web-app-capable\"/>\n",
       "<meta content=\"black\" name=\"apple-mobile-web-app-status-bar-style\"/>\n",
       "<meta content=\"width=device-width, initial-scale=1.0\" name=\"viewport\"/>\n",
       "<meta content=\"True\" name=\"HandheldFriendly\"/>\n",
       "<meta content=\"telephone=no\" name=\"format-detection\"/>\n",
       "<meta content=\"on\" http-equiv=\"cleartype\"/>\n",
       "<meta content=\"false\" http-equiv=\"imagetoolbar\"/>\n",
       "<script src=\"/static/js/libs/modernizr.js\"></script>\n",
       "<link href=\"/static/stylesheets/style.css\" rel=\"stylesheet\" title=\"default\" type=\"text/css\">\n",
       "<link href=\"/static/stylesheets/mq.css\" media=\"not print, braille, embossed, speech, tty\" rel=\"stylesheet\" type=\"text/css\"/>\n",
       "<!--[if (lte IE 8)&(!IEMobile)]>\n",
       "    <link href=\"/static/stylesheets/no-mq.css\" rel=\"stylesheet\" type=\"text/css\" media=\"screen\" />\n",
       "    \n",
       "    \n",
       "    <![endif]-->\n",
       "<link href=\"/static/favicon.ico\" rel=\"icon\" type=\"image/x-icon\"/>\n",
       "<link href=\"/static/apple-touch-icon-144x144-precomposed.png\" rel=\"apple-touch-icon-precomposed\" sizes=\"144x144\"/>\n",
       "<link href=\"/static/apple-touch-icon-114x114-precomposed.png\" rel=\"apple-touch-icon-precomposed\" sizes=\"114x114\"/>\n",
       "<link href=\"/static/apple-touch-icon-72x72-precomposed.png\" rel=\"apple-touch-icon-precomposed\" sizes=\"72x72\"/>\n",
       "<link href=\"/static/apple-touch-icon-precomposed.png\" rel=\"apple-touch-icon-precomposed\"/>\n",
       "<link href=\"/static/apple-touch-icon-precomposed.png\" rel=\"apple-touch-icon\"/>\n",
       "<meta content=\"/static/metro-icon-144x144-precomposed.png\" name=\"msapplication-TileImage\"/><!-- white shape -->\n",
       "<meta content=\"#3673a5\" name=\"msapplication-TileColor\"/><!-- python blue -->\n",
       "<meta content=\"#3673a5\" name=\"msapplication-navbutton-color\"/>\n",
       "<title>Welcome to Python.org</title>\n",
       "<meta content=\"The official home of the Python Programming Language\" name=\"description\"/>\n",
       "<meta content=\"Python programming language object oriented web free open source software license documentation download community\" name=\"keywords\"/>\n",
       "<meta content=\"website\" property=\"og:type\"/>\n",
       "<meta content=\"Python.org\" property=\"og:site_name\"/>\n",
       "<meta content=\"Welcome to Python.org\" property=\"og:title\"/>\n",
       "<meta content=\"The official home of the Python Programming Language\" property=\"og:description\"/>\n",
       "<meta content=\"https://www.python.org/static/opengraph-icon-200x200.png\" property=\"og:image\"/>\n",
       "<meta content=\"https://www.python.org/static/opengraph-icon-200x200.png\" property=\"og:image:secure_url\"/>\n",
       "<meta content=\"https://www.python.org/\" property=\"og:url\"/>\n",
       "<link href=\"/static/humans.txt\" rel=\"author\"/>\n",
       "<link href=\"https://www.python.org/dev/peps/peps.rss/\" rel=\"alternate\" title=\"Python Enhancement Proposals\" type=\"application/rss+xml\"/>\n",
       "<link href=\"https://www.python.org/jobs/feed/rss/\" rel=\"alternate\" title=\"Python Job Opportunities\" type=\"application/rss+xml\"/>\n",
       "<link href=\"https://feeds.feedburner.com/PythonSoftwareFoundationNews\" rel=\"alternate\" title=\"Python Software Foundation News\" type=\"application/rss+xml\"/>\n",
       "<link href=\"https://feeds.feedburner.com/PythonInsider\" rel=\"alternate\" title=\"Python Insider\" type=\"application/rss+xml\"/>\n",
       "<script type=\"application/ld+json\">\n",
       "     {\n",
       "       \"@context\": \"http://schema.org\",\n",
       "       \"@type\": \"WebSite\",\n",
       "       \"url\": \"https://www.python.org/\",\n",
       "       \"potentialAction\": {\n",
       "         \"@type\": \"SearchAction\",\n",
       "         \"target\": \"https://www.python.org/search/?q={search_term_string}\",\n",
       "         \"query-input\": \"required name=search_term_string\"\n",
       "       }\n",
       "     }\n",
       "    </script>\n",
       "<script type=\"text/javascript\">\n",
       "    var _gaq = _gaq || [];\n",
       "    _gaq.push(['_setAccount', 'UA-39055973-1']);\n",
       "    _gaq.push(['_trackPageview']);\n",
       "\n",
       "    (function() {\n",
       "        var ga = document.createElement('script'); ga.type = 'text/javascript'; ga.async = true;\n",
       "        ga.src = ('https:' == document.location.protocol ? 'https://ssl' : 'http://www') + '.google-analytics.com/ga.js';\n",
       "        var s = document.getElementsByTagName('script')[0]; s.parentNode.insertBefore(ga, s);\n",
       "    })();\n",
       "    </script>\n",
       "</link></head>\n",
       "<body class=\"python home\" id=\"homepage\">\n",
       "<div id=\"touchnav-wrapper\">\n",
       "<div class=\"do-not-print\" id=\"nojs\">\n",
       "<p><strong>Notice:</strong> While Javascript is not essential for this website, your interaction with the content will be limited. Please turn Javascript on for the full experience. </p>\n",
       "</div>\n",
       "<!--[if lt IE 8]>\n",
       "        <div id=\"oldie-warning\" class=\"do-not-print\">\n",
       "            <p><strong>Notice:</strong> Your browser is <em>ancient</em> and <a href=\"http://www.ie6countdown.com/\">Microsoft agrees</a>. <a href=\"http://browsehappy.com/\">Upgrade to a different browser</a> or <a href=\"http://www.google.com/chromeframe/?redirect=true\">install Google Chrome Frame</a> to experience a better web.</p>\n",
       "        </div>\n",
       "        <![endif]-->\n",
       "<!-- Sister Site Links -->\n",
       "<div class=\"top-bar do-not-print\" id=\"top\">\n",
       "<nav class=\"meta-navigation container\" role=\"navigation\">\n",
       "<div class=\"skip-link screen-reader-text\">\n",
       "<a href=\"#content\" title=\"Skip to content\">Skip to content</a>\n",
       "</div>\n",
       "<a aria-hidden=\"true\" class=\"jump-link\" href=\"#python-network\" id=\"close-python-network\">\n",
       "<span aria-hidden=\"true\" class=\"icon-arrow-down\"><span>▼</span></span> Close\n",
       "                </a>\n",
       "<ul class=\"menu\" role=\"tree\">\n",
       "<li class=\"python-meta current_item selectedcurrent_branch selected\">\n",
       "<a class=\"current_item selectedcurrent_branch selected\" href=\"/\" title=\"The Python Programming Language\">Python</a>\n",
       "</li>\n",
       "<li class=\"psf-meta \">\n",
       "<a href=\"/psf-landing/\" title=\"The Python Software Foundation\">PSF</a>\n",
       "</li>\n",
       "<li class=\"docs-meta \">\n",
       "<a href=\"https://docs.python.org\" title=\"Python Documentation\">Docs</a>\n",
       "</li>\n",
       "<li class=\"pypi-meta \">\n",
       "<a href=\"https://pypi.python.org/\" title=\"Python Package Index\">PyPI</a>\n",
       "</li>\n",
       "<li class=\"jobs-meta \">\n",
       "<a href=\"/jobs/\" title=\"Python Job Board\">Jobs</a>\n",
       "</li>\n",
       "<li class=\"shop-meta \">\n",
       "<a href=\"/community/\" title=\"Python Community\">Community</a>\n",
       "</li>\n",
       "</ul>\n",
       "<a aria-hidden=\"true\" class=\"jump-link\" href=\"#top\" id=\"python-network\">\n",
       "<span aria-hidden=\"true\" class=\"icon-arrow-up\"><span>▲</span></span> The Python Network\n",
       "                </a>\n",
       "</nav>\n",
       "</div>\n",
       "<!-- Header elements -->\n",
       "<header class=\"main-header\" role=\"banner\">\n",
       "<div class=\"container\">\n",
       "<h1 class=\"site-headline\">\n",
       "<a href=\"/\"><img alt=\"python™\" class=\"python-logo\" src=\"/static/img/python-logo.png\"/></a>\n",
       "</h1>\n",
       "<div class=\"options-bar do-not-print\">\n",
       "<a class=\"jump-to-menu\" href=\"#site-map\" id=\"site-map-link\"><span class=\"menu-icon\">≡</span> Menu</a><form action=\"/search/\" class=\"search-the-site\" method=\"get\">\n",
       "<fieldset title=\"Search Python.org\">\n",
       "<span aria-hidden=\"true\" class=\"icon-search\"></span>\n",
       "<label class=\"screen-reader-text\" for=\"id-search-field\">Search This Site</label>\n",
       "<input class=\"search-field\" id=\"id-search-field\" name=\"q\" placeholder=\"Search\" role=\"textbox\" tabindex=\"1\" type=\"search\" value=\"\"/>\n",
       "<button class=\"search-button\" id=\"submit\" name=\"submit\" tabindex=\"3\" title=\"Submit this Search\" type=\"submit\">\n",
       "                                GO\n",
       "                            </button>\n",
       "<!--[if IE]><input type=\"text\" style=\"display: none;\" disabled=\"disabled\" size=\"1\" tabindex=\"4\"><![endif]-->\n",
       "</fieldset>\n",
       "</form><span class=\"breaker\"></span><div aria-hidden=\"true\" class=\"adjust-font-size\">\n",
       "<ul aria-label=\"Adjust Text Size on Page\" class=\"navigation menu\">\n",
       "<li aria-haspopup=\"true\" class=\"tier-1 last\">\n",
       "<a class=\"action-trigger\" href=\"#\"><strong><small>A</small> A</strong></a>\n",
       "<ul class=\"subnav menu\">\n",
       "<li class=\"tier-2 element-1\" role=\"treeitem\"><a class=\"text-shrink\" href=\"javascript:;\" title=\"Make Text Smaller\">Smaller</a></li>\n",
       "<li class=\"tier-2 element-2\" role=\"treeitem\"><a class=\"text-grow\" href=\"javascript:;\" title=\"Make Text Larger\">Larger</a></li>\n",
       "<li class=\"tier-2 element-3\" role=\"treeitem\"><a class=\"text-reset\" href=\"javascript:;\" title=\"Reset any font size changes I have made\">Reset</a></li>\n",
       "</ul>\n",
       "</li>\n",
       "</ul>\n",
       "</div><div class=\"winkwink-nudgenudge\">\n",
       "<ul aria-label=\"Social Media Navigation\" class=\"navigation menu\">\n",
       "<li aria-haspopup=\"true\" class=\"tier-1 last\">\n",
       "<a class=\"action-trigger\" href=\"#\">Socialize</a>\n",
       "<ul class=\"subnav menu\">\n",
       "<li class=\"tier-2 element-1\" role=\"treeitem\"><a href=\"http://plus.google.com/+Python\"><span aria-hidden=\"true\" class=\"icon-google-plus\"></span>Google+</a></li>\n",
       "<li class=\"tier-2 element-2\" role=\"treeitem\"><a href=\"http://www.facebook.com/pythonlang?fref=ts\"><span aria-hidden=\"true\" class=\"icon-facebook\"></span>Facebook</a></li>\n",
       "<li class=\"tier-2 element-3\" role=\"treeitem\"><a href=\"http://twitter.com/ThePSF\"><span aria-hidden=\"true\" class=\"icon-twitter\"></span>Twitter</a></li>\n",
       "<li class=\"tier-2 element-4\" role=\"treeitem\"><a href=\"/community/irc/\"><span aria-hidden=\"true\" class=\"icon-freenode\"></span>Chat on IRC</a></li>\n",
       "</ul>\n",
       "</li>\n",
       "</ul>\n",
       "</div><div class=\"account-signin\">\n",
       "<ul aria-label=\"Social Media Navigation\" class=\"navigation menu\">\n",
       "<li aria-haspopup=\"true\" class=\"tier-1 last\">\n",
       "<a href=\"/accounts/login/\" title=\"Sign Up or Sign In to Python.org\">Sign In</a>\n",
       "<ul class=\"subnav menu\">\n",
       "<li class=\"tier-2 element-1\" role=\"treeitem\"><a href=\"/accounts/signup/\">Sign Up / Register</a></li>\n",
       "<li class=\"tier-2 element-2\" role=\"treeitem\"><a href=\"/accounts/login/\">Sign In</a></li>\n",
       "</ul>\n",
       "</li>\n",
       "</ul>\n",
       "</div>\n",
       "</div><!-- end options-bar -->\n",
       "<nav class=\"python-navigation main-navigation do-not-print\" id=\"mainnav\" role=\"navigation\">\n",
       "<ul aria-label=\"Main Navigation\" class=\"navigation menu\" role=\"menubar\">\n",
       "<li aria-haspopup=\"true\" class=\"tier-1 element-1 \" id=\"about\">\n",
       "<a class=\"\" href=\"/about/\" title=\"\">About</a>\n",
       "<ul aria-hidden=\"true\" class=\"subnav menu\" role=\"menu\">\n",
       "<li class=\"tier-2 element-1\" role=\"treeitem\"><a href=\"/about/apps/\" title=\"\">Applications</a></li>\n",
       "<li class=\"tier-2 element-2\" role=\"treeitem\"><a href=\"/about/quotes/\" title=\"\">Quotes</a></li>\n",
       "<li class=\"tier-2 element-3\" role=\"treeitem\"><a href=\"/about/gettingstarted/\" title=\"\">Getting Started</a></li>\n",
       "<li class=\"tier-2 element-4\" role=\"treeitem\"><a href=\"/about/help/\" title=\"\">Help</a></li>\n",
       "<li class=\"tier-2 element-5\" role=\"treeitem\"><a href=\"http://brochure.getpython.info/\" title=\"\">Python Brochure</a></li>\n",
       "</ul>\n",
       "</li>\n",
       "<li aria-haspopup=\"true\" class=\"tier-1 element-2 \" id=\"downloads\">\n",
       "<a class=\"\" href=\"/downloads/\" title=\"\">Downloads</a>\n",
       "<ul aria-hidden=\"true\" class=\"subnav menu\" role=\"menu\">\n",
       "<li class=\"tier-2 element-1\" role=\"treeitem\"><a href=\"/downloads/\" title=\"\">All releases</a></li>\n",
       "<li class=\"tier-2 element-2\" role=\"treeitem\"><a href=\"/downloads/source/\" title=\"\">Source code</a></li>\n",
       "<li class=\"tier-2 element-3\" role=\"treeitem\"><a href=\"/downloads/windows/\" title=\"\">Windows</a></li>\n",
       "<li class=\"tier-2 element-4\" role=\"treeitem\"><a href=\"/downloads/mac-osx/\" title=\"\">Mac OS X</a></li>\n",
       "<li class=\"tier-2 element-5\" role=\"treeitem\"><a href=\"/download/other/\" title=\"\">Other Platforms</a></li>\n",
       "<li class=\"tier-2 element-6\" role=\"treeitem\"><a href=\"https://docs.python.org/3/license.html\" title=\"\">License</a></li>\n",
       "<li class=\"tier-2 element-7\" role=\"treeitem\"><a href=\"/download/alternatives\" title=\"\">Alternative Implementations</a></li>\n",
       "</ul>\n",
       "</li>\n",
       "<li aria-haspopup=\"true\" class=\"tier-1 element-3 \" id=\"documentation\">\n",
       "<a class=\"\" href=\"/doc/\" title=\"\">Documentation</a>\n",
       "<ul aria-hidden=\"true\" class=\"subnav menu\" role=\"menu\">\n",
       "<li class=\"tier-2 element-1\" role=\"treeitem\"><a href=\"/doc/\" title=\"\">Docs</a></li>\n",
       "<li class=\"tier-2 element-2\" role=\"treeitem\"><a href=\"/doc/av\" title=\"\">Audio/Visual Talks</a></li>\n",
       "<li class=\"tier-2 element-3\" role=\"treeitem\"><a href=\"https://wiki.python.org/moin/BeginnersGuide\" title=\"\">Beginner's Guide</a></li>\n",
       "<li class=\"tier-2 element-4\" role=\"treeitem\"><a href=\"https://devguide.python.org/\" title=\"\">Developer's Guide</a></li>\n",
       "<li class=\"tier-2 element-5\" role=\"treeitem\"><a href=\"https://docs.python.org/faq/\" title=\"\">FAQ</a></li>\n",
       "<li class=\"tier-2 element-6\" role=\"treeitem\"><a href=\"http://wiki.python.org/moin/Languages\" title=\"\">Non-English Docs</a></li>\n",
       "<li class=\"tier-2 element-7\" role=\"treeitem\"><a href=\"http://python.org/dev/peps/\" title=\"\">PEP Index</a></li>\n",
       "<li class=\"tier-2 element-8\" role=\"treeitem\"><a href=\"https://wiki.python.org/moin/PythonBooks\" title=\"\">Python Books</a></li>\n",
       "<li class=\"tier-2 element-9\" role=\"treeitem\"><a href=\"/doc/essays/\" title=\"\">Python Essays</a></li>\n",
       "</ul>\n",
       "</li>\n",
       "<li aria-haspopup=\"true\" class=\"tier-1 element-4 \" id=\"community\">\n",
       "<a class=\"\" href=\"/community/\" title=\"\">Community</a>\n",
       "<ul aria-hidden=\"true\" class=\"subnav menu\" role=\"menu\">\n",
       "<li class=\"tier-2 element-1\" role=\"treeitem\"><a href=\"/community/diversity/\" title=\"\">Diversity</a></li>\n",
       "<li class=\"tier-2 element-2\" role=\"treeitem\"><a href=\"/community/lists/\" title=\"\">Mailing Lists</a></li>\n",
       "<li class=\"tier-2 element-3\" role=\"treeitem\"><a href=\"/community/irc/\" title=\"\">IRC</a></li>\n",
       "<li class=\"tier-2 element-4\" role=\"treeitem\"><a href=\"/community/forums/\" title=\"\">Forums</a></li>\n",
       "<li class=\"tier-2 element-5\" role=\"treeitem\"><a href=\"/community/workshops/\" title=\"\">Python Conferences</a></li>\n",
       "<li class=\"tier-2 element-6\" role=\"treeitem\"><a href=\"/community/sigs/\" title=\"\">Special Interest Groups</a></li>\n",
       "<li class=\"tier-2 element-7\" role=\"treeitem\"><a href=\"https://wiki.python.org/moin/\" title=\"\">Python Wiki</a></li>\n",
       "<li class=\"tier-2 element-8\" role=\"treeitem\"><a href=\"/community/logos/\" title=\"\">Python Logo</a></li>\n",
       "<li class=\"tier-2 element-9\" role=\"treeitem\"><a href=\"/community/merchandise/\" title=\"\">Merchandise</a></li>\n",
       "<li class=\"tier-2 element-10\" role=\"treeitem\"><a href=\"/community/awards\" title=\"\">Community Awards</a></li>\n",
       "<li class=\"tier-2 element-11\" role=\"treeitem\"><a href=\"https://www.python.org/psf/codeofconduct/\" title=\"\">Code of Conduct</a></li>\n",
       "</ul>\n",
       "</li>\n",
       "<li aria-haspopup=\"true\" class=\"tier-1 element-5 \" id=\"success-stories\">\n",
       "<a class=\"\" href=\"/about/success/\" title=\"success-stories\">Success Stories</a>\n",
       "<ul aria-hidden=\"true\" class=\"subnav menu\" role=\"menu\">\n",
       "<li class=\"tier-2 element-1\" role=\"treeitem\"><a href=\"/about/success/#arts\" title=\"\">Arts</a></li>\n",
       "<li class=\"tier-2 element-2\" role=\"treeitem\"><a href=\"/about/success/#business\" title=\"\">Business</a></li>\n",
       "<li class=\"tier-2 element-3\" role=\"treeitem\"><a href=\"/about/success/#education\" title=\"\">Education</a></li>\n",
       "<li class=\"tier-2 element-4\" role=\"treeitem\"><a href=\"/about/success/#engineering\" title=\"\">Engineering</a></li>\n",
       "<li class=\"tier-2 element-5\" role=\"treeitem\"><a href=\"/about/success/#government\" title=\"\">Government</a></li>\n",
       "<li class=\"tier-2 element-6\" role=\"treeitem\"><a href=\"/about/success/#scientific\" title=\"\">Scientific</a></li>\n",
       "<li class=\"tier-2 element-7\" role=\"treeitem\"><a href=\"/about/success/#software-development\" title=\"\">Software Development</a></li>\n",
       "</ul>\n",
       "</li>\n",
       "<li aria-haspopup=\"true\" class=\"tier-1 element-6 \" id=\"news\">\n",
       "<a class=\"\" href=\"/blogs/\" title=\"News from around the Python world\">News</a>\n",
       "<ul aria-hidden=\"true\" class=\"subnav menu\" role=\"menu\">\n",
       "<li class=\"tier-2 element-1\" role=\"treeitem\"><a href=\"/blogs/\" title=\"Python Insider Blog Posts\">Python News</a></li>\n",
       "<li class=\"tier-2 element-2\" role=\"treeitem\"><a href=\"http://planetpython.org/\" title=\"Planet Python\">Community News</a></li>\n",
       "<li class=\"tier-2 element-3\" role=\"treeitem\"><a href=\"http://pyfound.blogspot.com/\" title=\"PSF Blog\">PSF News</a></li>\n",
       "<li class=\"tier-2 element-4\" role=\"treeitem\"><a href=\"http://pycon.blogspot.com/\" title=\"PyCon Blog\">PyCon News</a></li>\n",
       "</ul>\n",
       "</li>\n",
       "<li aria-haspopup=\"true\" class=\"tier-1 element-7 \" id=\"events\">\n",
       "<a class=\"\" href=\"/events/\" title=\"\">Events</a>\n",
       "<ul aria-hidden=\"true\" class=\"subnav menu\" role=\"menu\">\n",
       "<li class=\"tier-2 element-1\" role=\"treeitem\"><a href=\"/events/python-events\" title=\"\">Python Events</a></li>\n",
       "<li class=\"tier-2 element-2\" role=\"treeitem\"><a href=\"/events/python-user-group/\" title=\"\">User Group Events</a></li>\n",
       "<li class=\"tier-2 element-3\" role=\"treeitem\"><a href=\"/events/python-events/past/\" title=\"\">Python Events Archive</a></li>\n",
       "<li class=\"tier-2 element-4\" role=\"treeitem\"><a href=\"/events/python-user-group/past/\" title=\"\">User Group Events Archive</a></li>\n",
       "<li class=\"tier-2 element-5\" role=\"treeitem\"><a href=\"https://wiki.python.org/moin/PythonEventsCalendar#Submitting_an_Event\" title=\"\">Submit an Event</a></li>\n",
       "</ul>\n",
       "</li>\n",
       "</ul>\n",
       "</nav>\n",
       "<div class=\"header-banner \"> <!-- for optional \"do-not-print\" class -->\n",
       "<div class=\"flex-slideshow slideshow\" id=\"dive-into-python\">\n",
       "<ul class=\"launch-shell menu\" id=\"launch-shell\">\n",
       "<li>\n",
       "<a class=\"button prompt\" data-shell-container=\"#dive-into-python\" href=\"/shell/\" id=\"start-shell\">&gt;_\n",
       "                        <span class=\"message\">Launch Interactive Shell</span>\n",
       "</a>\n",
       "</li>\n",
       "</ul>\n",
       "<ul class=\"slides menu\">\n",
       "<li>\n",
       "<div class=\"slide-code\"><pre><code><span class=\"comment\"># Python 3: Fibonacci series up to n</span>\n",
       "&gt;&gt;&gt; def fib(n):\n",
       "&gt;&gt;&gt;     a, b = 0, 1\n",
       "&gt;&gt;&gt;     while a &lt; n:\n",
       "&gt;&gt;&gt;         print(a, end=' ')\n",
       "&gt;&gt;&gt;         a, b = b, a+b\n",
       "&gt;&gt;&gt;     print()\n",
       "&gt;&gt;&gt; fib(1000)\n",
       "<span class=\"output\">0 1 1 2 3 5 8 13 21 34 55 89 144 233 377 610 987</span></code></pre></div>\n",
       "<div class=\"slide-copy\"><h1>Functions Defined</h1>\n",
       "<p>The core of extensible programming is defining functions. Python allows mandatory and optional arguments, keyword arguments, and even arbitrary argument lists. <a href=\"//docs.python.org/3/tutorial/controlflow.html#defining-functions\">More about defining functions in Python 3</a></p></div>\n",
       "</li>\n",
       "<li>\n",
       "<div class=\"slide-code\"><pre><code><span class=\"comment\"># Python 3: List comprehensions</span>\n",
       "&gt;&gt;&gt; fruits = ['Banana', 'Apple', 'Lime']\n",
       "&gt;&gt;&gt; loud_fruits = [fruit.upper() for fruit in fruits]\n",
       "&gt;&gt;&gt; print(loud_fruits)\n",
       "<span class=\"output\">['BANANA', 'APPLE', 'LIME']</span>\n",
       "\n",
       "<span class=\"comment\"># List and the enumerate function</span>\n",
       "&gt;&gt;&gt; list(enumerate(fruits))\n",
       "<span class=\"output\">[(0, 'Banana'), (1, 'Apple'), (2, 'Lime')]</span></code></pre></div>\n",
       "<div class=\"slide-copy\"><h1>Compound Data Types</h1>\n",
       "<p>Lists (known as arrays in other languages) are one of the compound data types that Python understands. Lists can be indexed, sliced and manipulated with other built-in functions. <a href=\"//docs.python.org/3/tutorial/introduction.html#lists\">More about lists in Python 3</a></p></div>\n",
       "</li>\n",
       "<li>\n",
       "<div class=\"slide-code\"><pre><code><span class=\"comment\"># Python 3: Simple arithmetic</span>\n",
       "&gt;&gt;&gt; 1 / 2\n",
       "<span class=\"output\">0.5</span>\n",
       "&gt;&gt;&gt; 2 ** 3\n",
       "<span class=\"output\">8</span>\n",
       "&gt;&gt;&gt; 17 / 3  <span class=\"comment\"># classic division returns a float</span>\n",
       "<span class=\"output\">5.666666666666667</span>\n",
       "&gt;&gt;&gt; 17 // 3  <span class=\"comment\"># floor division</span>\n",
       "<span class=\"output\">5</span></code></pre></div>\n",
       "<div class=\"slide-copy\"><h1>Intuitive Interpretation</h1>\n",
       "<p>Calculations are simple with Python, and expression syntax is straightforward: the operators <code>+</code>, <code>-</code>, <code>*</code> and <code>/</code> work as expected; parentheses <code>()</code> can be used for grouping. <a href=\"http://docs.python.org/3/tutorial/introduction.html#using-python-as-a-calculator\">More about simple math functions in Python 3</a>.</p></div>\n",
       "</li>\n",
       "<li>\n",
       "<div class=\"slide-code\"><pre><code><span class=\"comment\"># Python 3: Simple output (with Unicode)</span>\n",
       "&gt;&gt;&gt; print(\"Hello, I'm Python!\")\n",
       "<span class=\"output\">Hello, I'm Python!</span>\n",
       "\n",
       "<span class=\"comment\"># Input, assignment</span>\n",
       "&gt;&gt;&gt; name = input('What is your name?\\n')\n",
       "&gt;&gt;&gt; print('Hi, %s.' % name)\n",
       "<span class=\"output\">What is your name?\n",
       "Python\n",
       "Hi, Python.</span></code></pre></div>\n",
       "<div class=\"slide-copy\"><h1>Quick &amp; Easy to Learn</h1>\n",
       "<p>Experienced programmers in any other language can pick up Python very quickly, and beginners find the clean syntax and indentation structure easy to learn. <a href=\"//docs.python.org/3/tutorial/\">Whet your appetite</a> with our Python 3 overview.</p>\n",
       "</div>\n",
       "</li>\n",
       "<li>\n",
       "<div class=\"slide-code\"><pre><code><span class=\"comment\"># For loop on a list</span>\n",
       "&gt;&gt;&gt; numbers = [2, 4, 6, 8]\n",
       "&gt;&gt;&gt; product = 1\n",
       "&gt;&gt;&gt; for number in numbers:\n",
       "...    product = product * number\n",
       "... \n",
       "&gt;&gt;&gt; print('The product is:', product)\n",
       "<span class=\"output\">The product is: 384</span></code></pre></div>\n",
       "<div class=\"slide-copy\"><h1>All the Flow You’d Expect</h1>\n",
       "<p>Python knows the usual control flow statements that other languages speak — <code>if</code>, <code>for</code>, <code>while</code> and <code>range</code> — with some of its own twists, of course. <a href=\"//docs.python.org/3/tutorial/controlflow.html\">More control flow tools in Python 3</a></p></div>\n",
       "</li>\n",
       "</ul>\n",
       "</div>\n",
       "</div>\n",
       "<div class=\"introduction\">\n",
       "<p>Python is a programming language that lets you work quickly <span class=\"breaker\"></span>and integrate systems more effectively. <a class=\"readmore\" href=\"/doc/\">Learn More</a></p>\n",
       "</div>\n",
       "</div><!-- end .container -->\n",
       "</header>\n",
       "<div class=\"content-wrapper\" id=\"content\">\n",
       "<!-- Main Content Column -->\n",
       "<div class=\"container\">\n",
       "<section class=\"main-content \" role=\"main\">\n",
       "<div class=\"row\">\n",
       "<div class=\"small-widget get-started-widget\">\n",
       "<h2 class=\"widget-title\"><span aria-hidden=\"true\" class=\"icon-get-started\"></span>Get Started</h2>\n",
       "<p>Whether you're new to programming or an experienced developer, it's easy to learn and use Python.</p>\n",
       "<p><a href=\"/about/gettingstarted/\">Start with our Beginner’s Guide</a></p>\n",
       "</div>\n",
       "<div class=\"small-widget download-widget\">\n",
       "<h2 class=\"widget-title\"><span aria-hidden=\"true\" class=\"icon-download\"></span>Download</h2>\n",
       "<p>Python source code and installers are available for download for all versions!</p>\n",
       "<p>Latest: <a href=\"/downloads/release/python-365/\">Python 3.6.5</a></p>\n",
       "</div>\n",
       "<div class=\"small-widget documentation-widget\">\n",
       "<h2 class=\"widget-title\"><span aria-hidden=\"true\" class=\"icon-documentation\"></span>Docs</h2>\n",
       "<p>Documentation for Python's standard library, along with tutorials and guides, are available online.</p>\n",
       "<p><a href=\"https://docs.python.org\">docs.python.org</a></p>\n",
       "</div>\n",
       "<div class=\"small-widget jobs-widget last\">\n",
       "<h2 class=\"widget-title\"><span aria-hidden=\"true\" class=\"icon-jobs\"></span>Jobs</h2>\n",
       "<p>Looking for work or have a Python related position that you're trying to hire for? Our <strong>relaunched community-run job board</strong> is the place to go.</p>\n",
       "<p><a href=\"//jobs.python.org\">jobs.python.org</a></p>\n",
       "</div>\n",
       "</div>\n",
       "<div class=\"list-widgets row\">\n",
       "<div class=\"medium-widget blog-widget\">\n",
       "<div class=\"shrubbery\">\n",
       "<h2 class=\"widget-title\"><span aria-hidden=\"true\" class=\"icon-news\"></span>Latest News</h2>\n",
       "<p class=\"give-me-more\"><a href=\"http://blog.python.org\" title=\"More News\">More</a></p>\n",
       "<ul class=\"menu\">\n",
       "<li>\n",
       "<time datetime=\"2018-06-12T20:26:00.000001+00:00\"><span class=\"say-no-more\">2018-</span>06-12</time>\n",
       "<a href=\"http://feedproxy.google.com/~r/PythonInsider/~3/PuHgTVhNAAE/python-370rc1-and-366rc1-now-available.html\">Python 3.7.0rc1 and 3.6.6rc1 are now available. 3.7.0rc1 is the final planned release preview of Python 3.7, ...</a></li>\n",
       "<li>\n",
       "<time datetime=\"2018-05-31T04:30:00.000003+00:00\"><span class=\"say-no-more\">2018-</span>05-31</time>\n",
       "<a href=\"http://feedproxy.google.com/~r/PythonInsider/~3/rPQiRIs2Qhg/python-370b5-bonus-beta-is-now.html\">A 3.7 update: Python 3.7.0b5 is now the final beta preview of Python 3.7, the ...</a></li>\n",
       "<li>\n",
       "<time datetime=\"2018-05-03T00:18:00.000003+00:00\"><span class=\"say-no-more\">2018-</span>05-03</time>\n",
       "<a href=\"http://feedproxy.google.com/~r/PythonInsider/~3/vo7OgsISIdQ/python-370b4-final-37-beta-now.html\">Python 3.7.0b4 is the final beta preview of Python 3.7, the next feature release of ...</a></li>\n",
       "<li>\n",
       "<time datetime=\"2018-05-01T04:28:00.000001+00:00\"><span class=\"say-no-more\">2018-</span>05-01</time>\n",
       "<a href=\"http://feedproxy.google.com/~r/PythonInsider/~3/BMstxEjkOt0/python-2715-released.html\">The bugfix release Python 2.7.15 is now available for download.</a></li>\n",
       "<li>\n",
       "<time datetime=\"2018-04-16T17:07:00+00:00\"><span class=\"say-no-more\">2018-</span>04-16</time>\n",
       "<a href=\"http://feedproxy.google.com/~r/PythonInsider/~3/AZuQtxqd0yo/new-pypi-launched-legacy-pypi-shutting.html\">New PyPI launched, legacy PyPI shutting down April 30 Starting ...</a></li>\n",
       "</ul>\n",
       "</div><!-- end .shrubbery -->\n",
       "</div>\n",
       "<div class=\"medium-widget event-widget last\">\n",
       "<div class=\"shrubbery\">\n",
       "<h2 class=\"widget-title\"><span aria-hidden=\"true\" class=\"icon-calendar\"></span>Upcoming Events</h2>\n",
       "<p class=\"give-me-more\"><a href=\"/events/calendars/\" title=\"More Events\">More</a></p>\n",
       "<ul class=\"menu\">\n",
       "<li>\n",
       "<time datetime=\"2018-06-22T00:00:00+00:00\"><span class=\"say-no-more\">2018-</span>06-22</time>\n",
       "<a href=\"/events/python-events/688/\">Pythology: Python on the Blockchain</a></li>\n",
       "<li>\n",
       "<time datetime=\"2018-06-22T00:00:00+00:00\"><span class=\"say-no-more\">2018-</span>06-22</time>\n",
       "<a href=\"/events/python-user-group/729/\">Python Santo Domingo</a></li>\n",
       "<li>\n",
       "<time datetime=\"2018-06-30T00:00:00+00:00\"><span class=\"say-no-more\">2018-</span>06-30</time>\n",
       "<a href=\"/events/python-events/687/\">PyConWeb 2018</a></li>\n",
       "<li>\n",
       "<time datetime=\"2018-06-30T00:00:00+00:00\"><span class=\"say-no-more\">2018-</span>06-30</time>\n",
       "<a href=\"/events/python-events/716/\">PyCon KyuShu 2018 Fukuoka</a></li>\n",
       "<li>\n",
       "<time datetime=\"2018-07-07T00:00:00+00:00\"><span class=\"say-no-more\">2018-</span>07-07</time>\n",
       "<a href=\"/events/python-events/675/\">PyHEP 2018</a></li>\n",
       "</ul>\n",
       "</div>\n",
       "</div>\n",
       "</div>\n",
       "<div class=\"row\">\n",
       "<div class=\"medium-widget success-stories-widget\">\n",
       "<div class=\"shrubbery\">\n",
       "<h2 class=\"widget-title\"><span aria-hidden=\"true\" class=\"icon-success-stories\"></span>Success Stories</h2>\n",
       "<p class=\"give-me-more\"><a href=\"/success-stories/\" title=\"More Success Stories\">More</a></p>\n",
       "<div class=\"success-story-item\" id=\"success-story-2\">\n",
       "<blockquote>\n",
       "<a href=\"/success-stories/industrial-light-magic-runs-python/\">ILM runs a batch processing environment capable of modeling, rendering and compositing tens of thousands of motion picture frames per day. Thousands of machines running Linux, IRIX, Compaq Tru64, OS X, Solaris, and Windows join together to provide a production pipeline used by ~800 users daily. Speed of development is key, and Python was a faster way to code (and re-code) the programs that control this production pipeline.</a>\n",
       "</blockquote>\n",
       "<table border=\"0\" cellpadding=\"0\" cellspacing=\"0\" class=\"quote-from\" width=\"100%\">\n",
       "<tbody>\n",
       "<tr>\n",
       "<td><p><a href=\"/success-stories/industrial-light-magic-runs-python/\">Industrial Light &amp; Magic Runs on Python</a> <em>by Tim Fortenberry</em></p></td>\n",
       "</tr>\n",
       "</tbody>\n",
       "</table>\n",
       "</div>\n",
       "</div><!-- end .shrubbery -->\n",
       "</div>\n",
       "<div class=\"medium-widget applications-widget last\">\n",
       "<div class=\"shrubbery\">\n",
       "<h2 class=\"widget-title\"><span aria-hidden=\"true\" class=\"icon-python\"></span>Use Python for…</h2>\n",
       "<p class=\"give-me-more\"><a href=\"/about/apps\" title=\"More Applications\">More</a></p>\n",
       "<ul class=\"menu\">\n",
       "<li><b>Web Development</b>:\n",
       "        <span class=\"tag-wrapper\"><a class=\"tag\" href=\"http://www.djangoproject.com/\">Django</a>, <a class=\"tag\" href=\"http://www.pylonsproject.org/\">Pyramid</a>, <a class=\"tag\" href=\"http://bottlepy.org\">Bottle</a>, <a class=\"tag\" href=\"http://tornadoweb.org\">Tornado</a>, <a class=\"tag\" href=\"http://flask.pocoo.org/\">Flask</a>, <a class=\"tag\" href=\"http://www.web2py.com/\">web2py</a></span></li>\n",
       "<li><b>GUI Development</b>:\n",
       "        <span class=\"tag-wrapper\"><a class=\"tag\" href=\"http://wiki.python.org/moin/TkInter\">tkInter</a>, <a class=\"tag\" href=\"https://wiki.gnome.org/Projects/PyGObject\">PyGObject</a>, <a class=\"tag\" href=\"http://www.riverbankcomputing.co.uk/software/pyqt/intro\">PyQt</a>, <a class=\"tag\" href=\"https://wiki.qt.io/PySide\">PySide</a>, <a class=\"tag\" href=\"https://kivy.org/\">Kivy</a>, <a class=\"tag\" href=\"http://www.wxpython.org/\">wxPython</a></span></li>\n",
       "<li><b>Scientific and Numeric</b>:\n",
       "        <span class=\"tag-wrapper\">\n",
       "<a class=\"tag\" href=\"http://www.scipy.org\">SciPy</a>, <a class=\"tag\" href=\"http://pandas.pydata.org/\">Pandas</a>, <a class=\"tag\" href=\"http://ipython.org\">IPython</a></span></li>\n",
       "<li><b>Software Development</b>:\n",
       "        <span class=\"tag-wrapper\"><a class=\"tag\" href=\"http://buildbot.net/\">Buildbot</a>, <a class=\"tag\" href=\"http://trac.edgewall.org/\">Trac</a>, <a class=\"tag\" href=\"http://roundup.sourceforge.net/\">Roundup</a></span></li>\n",
       "<li><b>System Administration</b>:\n",
       "        <span class=\"tag-wrapper\"><a class=\"tag\" href=\"http://www.ansible.com\">Ansible</a>, <a class=\"tag\" href=\"http://www.saltstack.com\">Salt</a>, <a class=\"tag\" href=\"https://www.openstack.org\">OpenStack</a></span></li>\n",
       "</ul>\n",
       "</div><!-- end .shrubbery -->\n",
       "</div>\n",
       "</div>\n",
       "<div class=\"pep-widget\">\n",
       "<h2 class=\"widget-title\">\n",
       "<span class=\"prompt\">&gt;&gt;&gt;</span> <a href=\"/dev/peps/\">Python Enhancement Proposals<span class=\"say-no-more\"> (PEPs)</span></a>: The future of Python<span class=\"say-no-more\"> is discussed here.</span>\n",
       "<a aria-hidden=\"true\" class=\"rss-link\" href=\"/dev/peps/peps.rss\"><span class=\"icon-feed\"></span> RSS</a>\n",
       "</h2>\n",
       "</div>\n",
       "<div class=\"psf-widget\">\n",
       "<div class=\"python-logo\"></div>\n",
       "<h2 class=\"widget-title\">\n",
       "<span class=\"prompt\">&gt;&gt;&gt;</span> <a href=\"/psf/\">Python Software Foundation</a>\n",
       "</h2>\n",
       "<p>The mission of the Python Software Foundation is to promote, protect, and advance the Python programming language, and to support and facilitate the growth of a diverse and international community of Python programmers. <a class=\"readmore\" href=\"/psf/\">Learn more</a> </p>\n",
       "<p class=\"click-these\">\n",
       "<a class=\"button\" href=\"/users/membership/\">Become a Member</a>\n",
       "<a class=\"button\" href=\"/psf/donations/\">Donate to the PSF</a>\n",
       "</p>\n",
       "</div>\n",
       "</section>\n",
       "</div><!-- end .container -->\n",
       "</div><!-- end #content .content-wrapper -->\n",
       "<!-- Footer and social media list -->\n",
       "<footer class=\"main-footer\" id=\"site-map\" role=\"contentinfo\">\n",
       "<div class=\"main-footer-links\">\n",
       "<div class=\"container\">\n",
       "<a class=\"jump-link\" href=\"#python-network\" id=\"back-to-top-1\"><span aria-hidden=\"true\" class=\"icon-arrow-up\"><span>▲</span></span> Back to Top</a>\n",
       "<ul class=\"sitemap navigation menu do-not-print\" id=\"container\" role=\"tree\">\n",
       "<li class=\"tier-1 element-1\">\n",
       "<a href=\"/about/\">About</a>\n",
       "<ul class=\"subnav menu\">\n",
       "<li class=\"tier-2 element-1\" role=\"treeitem\"><a href=\"/about/apps/\" title=\"\">Applications</a></li>\n",
       "<li class=\"tier-2 element-2\" role=\"treeitem\"><a href=\"/about/quotes/\" title=\"\">Quotes</a></li>\n",
       "<li class=\"tier-2 element-3\" role=\"treeitem\"><a href=\"/about/gettingstarted/\" title=\"\">Getting Started</a></li>\n",
       "<li class=\"tier-2 element-4\" role=\"treeitem\"><a href=\"/about/help/\" title=\"\">Help</a></li>\n",
       "<li class=\"tier-2 element-5\" role=\"treeitem\"><a href=\"http://brochure.getpython.info/\" title=\"\">Python Brochure</a></li>\n",
       "</ul>\n",
       "</li>\n",
       "<li class=\"tier-1 element-2\">\n",
       "<a href=\"/downloads/\">Downloads</a>\n",
       "<ul class=\"subnav menu\">\n",
       "<li class=\"tier-2 element-1\" role=\"treeitem\"><a href=\"/downloads/\" title=\"\">All releases</a></li>\n",
       "<li class=\"tier-2 element-2\" role=\"treeitem\"><a href=\"/downloads/source/\" title=\"\">Source code</a></li>\n",
       "<li class=\"tier-2 element-3\" role=\"treeitem\"><a href=\"/downloads/windows/\" title=\"\">Windows</a></li>\n",
       "<li class=\"tier-2 element-4\" role=\"treeitem\"><a href=\"/downloads/mac-osx/\" title=\"\">Mac OS X</a></li>\n",
       "<li class=\"tier-2 element-5\" role=\"treeitem\"><a href=\"/download/other/\" title=\"\">Other Platforms</a></li>\n",
       "<li class=\"tier-2 element-6\" role=\"treeitem\"><a href=\"https://docs.python.org/3/license.html\" title=\"\">License</a></li>\n",
       "<li class=\"tier-2 element-7\" role=\"treeitem\"><a href=\"/download/alternatives\" title=\"\">Alternative Implementations</a></li>\n",
       "</ul>\n",
       "</li>\n",
       "<li class=\"tier-1 element-3\">\n",
       "<a href=\"/doc/\">Documentation</a>\n",
       "<ul class=\"subnav menu\">\n",
       "<li class=\"tier-2 element-1\" role=\"treeitem\"><a href=\"/doc/\" title=\"\">Docs</a></li>\n",
       "<li class=\"tier-2 element-2\" role=\"treeitem\"><a href=\"/doc/av\" title=\"\">Audio/Visual Talks</a></li>\n",
       "<li class=\"tier-2 element-3\" role=\"treeitem\"><a href=\"https://wiki.python.org/moin/BeginnersGuide\" title=\"\">Beginner's Guide</a></li>\n",
       "<li class=\"tier-2 element-4\" role=\"treeitem\"><a href=\"https://devguide.python.org/\" title=\"\">Developer's Guide</a></li>\n",
       "<li class=\"tier-2 element-5\" role=\"treeitem\"><a href=\"https://docs.python.org/faq/\" title=\"\">FAQ</a></li>\n",
       "<li class=\"tier-2 element-6\" role=\"treeitem\"><a href=\"http://wiki.python.org/moin/Languages\" title=\"\">Non-English Docs</a></li>\n",
       "<li class=\"tier-2 element-7\" role=\"treeitem\"><a href=\"http://python.org/dev/peps/\" title=\"\">PEP Index</a></li>\n",
       "<li class=\"tier-2 element-8\" role=\"treeitem\"><a href=\"https://wiki.python.org/moin/PythonBooks\" title=\"\">Python Books</a></li>\n",
       "<li class=\"tier-2 element-9\" role=\"treeitem\"><a href=\"/doc/essays/\" title=\"\">Python Essays</a></li>\n",
       "</ul>\n",
       "</li>\n",
       "<li class=\"tier-1 element-4\">\n",
       "<a href=\"/community/\">Community</a>\n",
       "<ul class=\"subnav menu\">\n",
       "<li class=\"tier-2 element-1\" role=\"treeitem\"><a href=\"/community/diversity/\" title=\"\">Diversity</a></li>\n",
       "<li class=\"tier-2 element-2\" role=\"treeitem\"><a href=\"/community/lists/\" title=\"\">Mailing Lists</a></li>\n",
       "<li class=\"tier-2 element-3\" role=\"treeitem\"><a href=\"/community/irc/\" title=\"\">IRC</a></li>\n",
       "<li class=\"tier-2 element-4\" role=\"treeitem\"><a href=\"/community/forums/\" title=\"\">Forums</a></li>\n",
       "<li class=\"tier-2 element-5\" role=\"treeitem\"><a href=\"/community/workshops/\" title=\"\">Python Conferences</a></li>\n",
       "<li class=\"tier-2 element-6\" role=\"treeitem\"><a href=\"/community/sigs/\" title=\"\">Special Interest Groups</a></li>\n",
       "<li class=\"tier-2 element-7\" role=\"treeitem\"><a href=\"https://wiki.python.org/moin/\" title=\"\">Python Wiki</a></li>\n",
       "<li class=\"tier-2 element-8\" role=\"treeitem\"><a href=\"/community/logos/\" title=\"\">Python Logo</a></li>\n",
       "<li class=\"tier-2 element-9\" role=\"treeitem\"><a href=\"/community/merchandise/\" title=\"\">Merchandise</a></li>\n",
       "<li class=\"tier-2 element-10\" role=\"treeitem\"><a href=\"/community/awards\" title=\"\">Community Awards</a></li>\n",
       "<li class=\"tier-2 element-11\" role=\"treeitem\"><a href=\"https://www.python.org/psf/codeofconduct/\" title=\"\">Code of Conduct</a></li>\n",
       "</ul>\n",
       "</li>\n",
       "<li class=\"tier-1 element-5\">\n",
       "<a href=\"/about/success/\" title=\"success-stories\">Success Stories</a>\n",
       "<ul class=\"subnav menu\">\n",
       "<li class=\"tier-2 element-1\" role=\"treeitem\"><a href=\"/about/success/#arts\" title=\"\">Arts</a></li>\n",
       "<li class=\"tier-2 element-2\" role=\"treeitem\"><a href=\"/about/success/#business\" title=\"\">Business</a></li>\n",
       "<li class=\"tier-2 element-3\" role=\"treeitem\"><a href=\"/about/success/#education\" title=\"\">Education</a></li>\n",
       "<li class=\"tier-2 element-4\" role=\"treeitem\"><a href=\"/about/success/#engineering\" title=\"\">Engineering</a></li>\n",
       "<li class=\"tier-2 element-5\" role=\"treeitem\"><a href=\"/about/success/#government\" title=\"\">Government</a></li>\n",
       "<li class=\"tier-2 element-6\" role=\"treeitem\"><a href=\"/about/success/#scientific\" title=\"\">Scientific</a></li>\n",
       "<li class=\"tier-2 element-7\" role=\"treeitem\"><a href=\"/about/success/#software-development\" title=\"\">Software Development</a></li>\n",
       "</ul>\n",
       "</li>\n",
       "<li class=\"tier-1 element-6\">\n",
       "<a href=\"/blogs/\" title=\"News from around the Python world\">News</a>\n",
       "<ul class=\"subnav menu\">\n",
       "<li class=\"tier-2 element-1\" role=\"treeitem\"><a href=\"/blogs/\" title=\"Python Insider Blog Posts\">Python News</a></li>\n",
       "<li class=\"tier-2 element-2\" role=\"treeitem\"><a href=\"http://planetpython.org/\" title=\"Planet Python\">Community News</a></li>\n",
       "<li class=\"tier-2 element-3\" role=\"treeitem\"><a href=\"http://pyfound.blogspot.com/\" title=\"PSF Blog\">PSF News</a></li>\n",
       "<li class=\"tier-2 element-4\" role=\"treeitem\"><a href=\"http://pycon.blogspot.com/\" title=\"PyCon Blog\">PyCon News</a></li>\n",
       "</ul>\n",
       "</li>\n",
       "<li class=\"tier-1 element-7\">\n",
       "<a href=\"/events/\">Events</a>\n",
       "<ul class=\"subnav menu\">\n",
       "<li class=\"tier-2 element-1\" role=\"treeitem\"><a href=\"/events/python-events\" title=\"\">Python Events</a></li>\n",
       "<li class=\"tier-2 element-2\" role=\"treeitem\"><a href=\"/events/python-user-group/\" title=\"\">User Group Events</a></li>\n",
       "<li class=\"tier-2 element-3\" role=\"treeitem\"><a href=\"/events/python-events/past/\" title=\"\">Python Events Archive</a></li>\n",
       "<li class=\"tier-2 element-4\" role=\"treeitem\"><a href=\"/events/python-user-group/past/\" title=\"\">User Group Events Archive</a></li>\n",
       "<li class=\"tier-2 element-5\" role=\"treeitem\"><a href=\"https://wiki.python.org/moin/PythonEventsCalendar#Submitting_an_Event\" title=\"\">Submit an Event</a></li>\n",
       "</ul>\n",
       "</li>\n",
       "<li class=\"tier-1 element-8\">\n",
       "<a href=\"/dev/\">Contributing</a>\n",
       "<ul class=\"subnav menu\">\n",
       "<li class=\"tier-2 element-1\" role=\"treeitem\"><a href=\"https://devguide.python.org/\" title=\"\">Developer's Guide</a></li>\n",
       "<li class=\"tier-2 element-2\" role=\"treeitem\"><a href=\"https://bugs.python.org/\" title=\"\">Issue Tracker</a></li>\n",
       "<li class=\"tier-2 element-3\" role=\"treeitem\"><a href=\"https://mail.python.org/mailman/listinfo/python-dev\" title=\"\">python-dev list</a></li>\n",
       "<li class=\"tier-2 element-4\" role=\"treeitem\"><a href=\"/dev/core-mentorship/\" title=\"\">Core Mentorship</a></li>\n",
       "</ul>\n",
       "</li>\n",
       "</ul>\n",
       "<a class=\"jump-link\" href=\"#python-network\" id=\"back-to-top-2\"><span aria-hidden=\"true\" class=\"icon-arrow-up\"><span>▲</span></span> Back to Top</a>\n",
       "</div><!-- end .container -->\n",
       "</div> <!-- end .main-footer-links -->\n",
       "<div class=\"site-base\">\n",
       "<div class=\"container\">\n",
       "<ul class=\"footer-links navigation menu do-not-print\" role=\"tree\">\n",
       "<li class=\"tier-1 element-1\"><a href=\"/about/help/\">Help &amp; <span class=\"say-no-more\">General</span> Contact</a></li>\n",
       "<li class=\"tier-1 element-2\"><a href=\"/community/diversity/\">Diversity <span class=\"say-no-more\">Initiatives</span></a></li>\n",
       "<li class=\"tier-1 element-3\"><a href=\"https://github.com/python/pythondotorg/issues\">Submit Website Bug</a></li>\n",
       "<li class=\"tier-1 element-4\">\n",
       "<a href=\"https://status.python.org/\">Status <span class=\"python-status-indicator-default\" id=\"python-status-indicator\"></span></a>\n",
       "</li>\n",
       "</ul>\n",
       "<div class=\"copyright\">\n",
       "<p><small>\n",
       "<span class=\"pre\">Copyright ©2001-2018.</span>\n",
       "                             <span class=\"pre\"><a href=\"/psf-landing/\">Python Software Foundation</a></span>\n",
       "                             <span class=\"pre\"><a href=\"/about/legal/\">Legal Statements</a></span>\n",
       "                             <span class=\"pre\"><a href=\"/privacy/\">Privacy Policy</a></span>\n",
       "                             <span class=\"pre\"><a href=\"/psf/sponsorship/sponsors/\">Powered by Rackspace</a></span>\n",
       "</small></p>\n",
       "</div>\n",
       "</div><!-- end .container -->\n",
       "</div><!-- end .site-base -->\n",
       "</footer>\n",
       "</div><!-- end #touchnav-wrapper -->\n",
       "<script src=\"//ajax.googleapis.com/ajax/libs/jquery/1.8.2/jquery.min.js\"></script>\n",
       "<script>window.jQuery || document.write('<script src=\"/static/js/libs/jquery-1.8.2.min.js\"><\\/script>')</script>\n",
       "<script src=\"/static/js/libs/masonry.pkgd.min.js\"></script>\n",
       "<script charset=\"utf-8\" src=\"/static/js/main-min.js\" type=\"text/javascript\"></script>\n",
       "<!--[if lte IE 7]>\n",
       "    <script type=\"text/javascript\" src=\"/static/js/plugins/IE8-min.js\" charset=\"utf-8\"></script>\n",
       "    \n",
       "    \n",
       "    <![endif]-->\n",
       "<!--[if lte IE 8]>\n",
       "    <script type=\"text/javascript\" src=\"/static/js/plugins/getComputedStyle-min.js\" charset=\"utf-8\"></script>\n",
       "    \n",
       "    \n",
       "    <![endif]-->\n",
       "</body>\n",
       "</html>"
      ]
     },
     "execution_count": 67,
     "metadata": {},
     "output_type": "execute_result"
    }
   ],
   "source": [
    "# Obtenemos el árbol de la página en HTML\n",
    "bs4.BeautifulSoup(req_chrome.text, \"html.parser\")"
   ]
  }
 ],
 "metadata": {
  "kernelspec": {
   "display_name": "Python 3",
   "language": "python",
   "name": "python3"
  },
  "language_info": {
   "codemirror_mode": {
    "name": "ipython",
    "version": 3
   },
   "file_extension": ".py",
   "mimetype": "text/x-python",
   "name": "python",
   "nbconvert_exporter": "python",
   "pygments_lexer": "ipython3",
   "version": "3.6.4"
  }
 },
 "nbformat": 4,
 "nbformat_minor": 2
}
